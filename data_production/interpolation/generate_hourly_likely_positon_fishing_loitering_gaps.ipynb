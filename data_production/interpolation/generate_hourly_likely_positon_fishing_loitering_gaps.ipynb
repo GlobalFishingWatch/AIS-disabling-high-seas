{
 "cells": [
  {
   "cell_type": "markdown",
   "metadata": {},
   "source": [
    "# Generate Likely Hourly Positions\n",
    "October 27, 2020\n",
    "David Kroodsma\n",
    "\n",
    "This table generates the most likely position for a vessel for each half hour and the number of satellite and terrestrial positions for the given hour.\n",
    "\n",
    "Updated on December 8th to include new gaps table from 12/01 (Tyler)"
   ]
  },
  {
   "cell_type": "code",
   "execution_count": null,
   "metadata": {
    "lines_to_next_cell": 2
   },
   "outputs": [],
   "source": [
    "import os\n",
    "from datetime import datetime, timedelta\n",
    "import pandas as pd\n",
    "import numpy as np"
   ]
  },
  {
   "cell_type": "code",
   "execution_count": null,
   "metadata": {},
   "outputs": [],
   "source": [
    "# Version of model inputs to use in input/output table names\n",
    "input_version = \"20201209\"\n",
    "\n",
    "# Generate the list of dates that we want to run our updates on\n",
    "startdate = \"2017-01-01\"\n",
    "enddate = \"2019-12-31\"\n",
    "\n",
    "d = datetime.strptime(startdate,\"%Y-%m-%d\")\n",
    "endtime = datetime.strptime(enddate,\"%Y-%m-%d\")\n",
    "tp = []\n",
    "while d <= endtime:\n",
    "    tp.append(d.strftime(\"%Y%m%d\"))\n",
    "    d = d + timedelta(days=1)"
   ]
  },
  {
   "cell_type": "code",
   "execution_count": null,
   "metadata": {},
   "outputs": [],
   "source": [
    "def execute_commands_in_parallel(commands):\n",
    "    '''This takes a list of commands and runs them in parallel\n",
    "    Note that this assumes you can run 16 commands in parallel,\n",
    "    your mileage may vary if your computer is old and slow.\n",
    "    Requires having gnu parallel installed on your machine.\n",
    "    '''\n",
    "    with open('commands.txt', 'w') as f:\n",
    "        f.write(\"\\n\".join(commands))    \n",
    "    os.system(\"parallel -j 16 < commands.txt\")\n",
    "    os.system(\"rm -f commands.txt\")"
   ]
  },
  {
   "cell_type": "markdown",
   "metadata": {},
   "source": [
    "# All Vessel Position Interpolation"
   ]
  },
  {
   "cell_type": "code",
   "execution_count": null,
   "metadata": {},
   "outputs": [],
   "source": [
    "destination_table = 'proj_ais_gaps_catena.ais_positions_byssvid_hourly_v20201027'\n",
    "# this is to be run the first time\n",
    "# os.system(\"bq mk --time_partitioning_type=DAY \"+destination_table)"
   ]
  },
  {
   "cell_type": "code",
   "execution_count": null,
   "metadata": {
    "lines_to_next_cell": 2
   },
   "outputs": [],
   "source": [
    "commands = []\n",
    "for t in tp:\n",
    "    destination_table2 = destination_table + \"\\$\"+t\n",
    "    command = '''jinja2 hourly_interpoloation_v20201027.sql.j2    \\\n",
    "       -D YYYY_MM_DD=\"{YYYY_MM_DD}\" \\\n",
    "       | \\\n",
    "        bq query --replace \\\n",
    "        --destination_table={destination_table2}\\\n",
    "         --allow_large_results --use_legacy_sql=false '''.format(YYYY_MM_DD = t[:4] + \"-\" + t[4:6] + \"-\" + t[6:8],\n",
    "                                destination_table2=destination_table2)                                 \n",
    "    commands.append(command)"
   ]
  },
  {
   "cell_type": "code",
   "execution_count": null,
   "metadata": {},
   "outputs": [],
   "source": [
    "execute_commands_in_parallel(commands)"
   ]
  },
  {
   "cell_type": "code",
   "execution_count": null,
   "metadata": {},
   "outputs": [],
   "source": [
    "# Uncomment to copy version to new name\n",
    "!bq cp proj_ais_gaps_catena.ais_positions_byssvid_hourly_v20201027 proj_ais_gaps_catena.ais_positions_byssvid_hourly_v20201209"
   ]
  },
  {
   "cell_type": "markdown",
   "metadata": {},
   "source": [
    "# Fishing Vessel Position Interpolation"
   ]
  },
  {
   "cell_type": "code",
   "execution_count": null,
   "metadata": {},
   "outputs": [],
   "source": [
    "destination_table = 'proj_ais_gaps_catena.ais_positions_byssvid_hourlyfishing_v20201027'\n",
    "# uncomment if need to delete and do over...\n",
    "# os.system(\"bq rm -f  \"+destination_table)"
   ]
  },
  {
   "cell_type": "code",
   "execution_count": null,
   "metadata": {},
   "outputs": [],
   "source": [
    "\n",
    "os.system(\"bq mk --time_partitioning_type=DAY \"+destination_table)"
   ]
  },
  {
   "cell_type": "code",
   "execution_count": null,
   "metadata": {
    "lines_to_next_cell": 2
   },
   "outputs": [],
   "source": [
    "commands = []\n",
    "for t in tp:\n",
    "    destination_table2 = destination_table + \"\\$\"+t\n",
    "    command = '''jinja2 hourly_fishing_interpoloation_v20201027.sql.j2    \\\n",
    "       -D YYYY_MM_DD=\"{YYYY_MM_DD}\" \\\n",
    "       | \\\n",
    "        bq query --replace \\\n",
    "        --destination_table={destination_table2}\\\n",
    "         --allow_large_results --use_legacy_sql=false --max_rows=0 '''.format(YYYY_MM_DD = t[:4] + \"-\" + t[4:6] + \"-\" + t[6:8],\n",
    "                                destination_table2=destination_table2)                                 \n",
    "    commands.append(command)"
   ]
  },
  {
   "cell_type": "code",
   "execution_count": null,
   "metadata": {},
   "outputs": [],
   "source": [
    "# print(commands[-1])"
   ]
  },
  {
   "cell_type": "code",
   "execution_count": null,
   "metadata": {},
   "outputs": [],
   "source": [
    "## Uncomment to test...\n",
    "# os.system(commands[0])"
   ]
  },
  {
   "cell_type": "code",
   "execution_count": null,
   "metadata": {},
   "outputs": [],
   "source": [
    "execute_commands_in_parallel(commands)"
   ]
  },
  {
   "cell_type": "code",
   "execution_count": null,
   "metadata": {},
   "outputs": [],
   "source": [
    "# Uncomment to copy version to new name\n",
    "!bq cp proj_ais_gaps_catena.ais_positions_byssvid_hourlyfishing_v20201027 proj_ais_gaps_catena.ais_positions_byssvid_hourlyfishing_v20201209"
   ]
  },
  {
   "cell_type": "markdown",
   "metadata": {},
   "source": [
    "# Gap Interpolation"
   ]
  },
  {
   "cell_type": "code",
   "execution_count": null,
   "metadata": {},
   "outputs": [],
   "source": [
    "destination_table = 'proj_ais_gaps_catena.gap_positions_hourly_v{}'.format(input_version)\n",
    "# uncomment if need to delete and do over...\n",
    "# os.system(\"bq rm -f  \"+destination_table)\n",
    "os.system(\"bq mk --time_partitioning_type=DAY \"+destination_table)"
   ]
  },
  {
   "cell_type": "code",
   "execution_count": null,
   "metadata": {
    "lines_to_next_cell": 2
   },
   "outputs": [],
   "source": [
    "commands = []\n",
    "for t in tp:\n",
    "    destination_table2 = destination_table + \"\\$\"+t\n",
    "    command = '''jinja2 hourly_gap_interpoloation_v20201031.sql.j2    \\\n",
    "       -D YYYY_MM_DD=\"{YYYY_MM_DD}\" \\\n",
    "       -D input_version=\"{input_version}\" \\\n",
    "       | \\\n",
    "        bq query --replace \\\n",
    "        --destination_table={destination_table2}\\\n",
    "         --allow_large_results --use_legacy_sql=false --max_rows=0'''.format(YYYY_MM_DD = t[:4] + \"-\" + t[4:6] + \"-\" + t[6:8],\n",
    "                                                                             input_version = input_version,\n",
    "                                                                             destination_table2=destination_table2)                                 \n",
    "    commands.append(command)"
   ]
  },
  {
   "cell_type": "code",
   "execution_count": null,
   "metadata": {},
   "outputs": [],
   "source": [
    "# Uncomment to test...\n",
    "# commands[0]\n",
    "# os.system(commands[0])"
   ]
  },
  {
   "cell_type": "code",
   "execution_count": null,
   "metadata": {},
   "outputs": [],
   "source": [
    "execute_commands_in_parallel(commands)"
   ]
  },
  {
   "cell_type": "markdown",
   "metadata": {},
   "source": [
    "# Loitering Interpolation"
   ]
  },
  {
   "cell_type": "code",
   "execution_count": null,
   "metadata": {},
   "outputs": [],
   "source": [
    "destination_table = 'proj_ais_gaps_catena.loitering_positions_byssvid_hourly_v{}'.format(input_version)\n",
    "# uncomment if need to delete and do over...\n",
    "# os.system(\"bq rm -f  \"+destination_table)\n",
    "os.system(\"bq mk --time_partitioning_type=DAY \"+destination_table)"
   ]
  },
  {
   "cell_type": "code",
   "execution_count": null,
   "metadata": {
    "lines_to_next_cell": 2
   },
   "outputs": [],
   "source": [
    "commands = []\n",
    "for t in tp:\n",
    "    destination_table2 = destination_table + \"\\$\"+t\n",
    "    command = '''jinja2 hourly_loitering_interpoloation_v20201027.sql.j2    \\\n",
    "       -D YYYY_MM_DD=\"{YYYY_MM_DD}\" \\\n",
    "       -D input_version=\"{input_version}\" \\\n",
    "       | \\\n",
    "        bq query --replace \\\n",
    "        --destination_table={destination_table2}\\\n",
    "         --allow_large_results --use_legacy_sql=false --max_rows=0'''.format(YYYY_MM_DD = t[:4] + \"-\" + t[4:6] + \"-\" + t[6:8],\n",
    "                                                                             input_version = input_version,\n",
    "                                                                             destination_table2=destination_table2)                                 \n",
    "    commands.append(command)"
   ]
  },
  {
   "cell_type": "code",
   "execution_count": null,
   "metadata": {},
   "outputs": [],
   "source": [
    "# Uncomment to test...\n",
    "# commands[0]\n",
    "os.system(commands[0])"
   ]
  },
  {
   "cell_type": "code",
   "execution_count": null,
   "metadata": {},
   "outputs": [],
   "source": [
    "execute_commands_in_parallel(commands)"
   ]
  },
  {
   "cell_type": "code",
   "execution_count": null,
   "metadata": {},
   "outputs": [],
   "source": []
  }
 ],
 "metadata": {
  "jupytext": {
   "formats": "ipynb,py:light",
   "text_representation": {
    "extension": ".py",
    "format_name": "light",
    "format_version": "1.5",
    "jupytext_version": "1.7.1"
   }
  },
  "kernelspec": {
   "display_name": "Python 3",
   "language": "python",
   "name": "python3"
  },
  "language_info": {
   "codemirror_mode": {
    "name": "ipython",
    "version": 3
   },
   "file_extension": ".py",
   "mimetype": "text/x-python",
   "name": "python",
   "nbconvert_exporter": "python",
   "pygments_lexer": "ipython3",
   "version": "3.8.6"
  }
 },
 "nbformat": 4,
 "nbformat_minor": 4
}
