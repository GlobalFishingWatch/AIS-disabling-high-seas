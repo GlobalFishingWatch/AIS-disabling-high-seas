{
 "cells": [
  {
   "cell_type": "markdown",
   "id": "c13b4000",
   "metadata": {},
   "source": [
    "# Generate AIS reception and gap events datasets\n",
    "\n",
    "This notebook is a wrapper file for producing a complete set of results and inputs for Welch et al. (2021). It contains code for the following: \n",
    "\n",
    "1. Generate raw AIS gap events greater than 12 hours\n",
    "2. Generate monthly AIS reception maps\n",
    "3. Detect suspected AIS disabling events\n",
    "\n",
    "## Setup\n",
    "\n",
    "### Packages"
   ]
  },
  {
   "cell_type": "code",
   "execution_count": 22,
   "id": "0baec2eb",
   "metadata": {},
   "outputs": [
    {
     "name": "stdout",
     "output_type": "stream",
     "text": [
      "The autoreload extension is already loaded. To reload it, use:\n",
      "  %reload_ext autoreload\n",
      "The google.cloud.bigquery extension is already loaded. To reload it, use:\n",
      "  %reload_ext google.cloud.bigquery\n"
     ]
    },
    {
     "name": "stderr",
     "output_type": "stream",
     "text": [
      "/opt/miniconda3/envs/rad/lib/python3.9/site-packages/google/auth/_default.py:70: UserWarning: Your application has authenticated using end user credentials from Google Cloud SDK without a quota project. You might receive a \"quota exceeded\" or \"API not enabled\" error. We recommend you rerun `gcloud auth application-default login` and make sure a quota project is added. Or you can use service accounts instead. For more information about service accounts, see https://cloud.google.com/docs/authentication/\n",
      "  warnings.warn(_CLOUD_SDK_CREDENTIALS_WARNING)\n",
      "/opt/miniconda3/envs/rad/lib/python3.9/site-packages/google/auth/_default.py:70: UserWarning: Your application has authenticated using end user credentials from Google Cloud SDK without a quota project. You might receive a \"quota exceeded\" or \"API not enabled\" error. We recommend you rerun `gcloud auth application-default login` and make sure a quota project is added. Or you can use service accounts instead. For more information about service accounts, see https://cloud.google.com/docs/authentication/\n",
      "  warnings.warn(_CLOUD_SDK_CREDENTIALS_WARNING)\n"
     ]
    }
   ],
   "source": [
    "# Modules\n",
    "import os\n",
    "import pandas as pd\n",
    "import numpy as np\n",
    "import pandas_gbq\n",
    "from datetime import datetime, timedelta, date\n",
    "from dateutil.relativedelta import relativedelta\n",
    "import time\n",
    "from google.cloud import bigquery\n",
    "from jinja2 import Template\n",
    "\n",
    "import pyseas\n",
    "import pyseas.maps\n",
    "import pyseas.maps.rasters\n",
    "import pyseas.styles\n",
    "import pyseas.cm\n",
    "\n",
    "# project specific functions\n",
    "import utils \n",
    "\n",
    "%load_ext autoreload\n",
    "%load_ext google.cloud.bigquery\n",
    "%autoreload 2\n",
    "\n",
    "# BigQuery client\n",
    "client = bigquery.Client()"
   ]
  },
  {
   "cell_type": "markdown",
   "id": "3cb75ef9",
   "metadata": {},
   "source": [
    "### Inputs & Parameters"
   ]
  },
  {
   "cell_type": "code",
   "execution_count": 23,
   "id": "cdf9865a",
   "metadata": {},
   "outputs": [],
   "source": [
    "# Input BQ datasets/tables\n",
    "gfw_research = 'gfw_research'\n",
    "gfw_research_precursors = 'gfw_research_precursors'\n",
    "proj_dataset = 'proj_ais_gaps_catena'\n",
    "destination_dataset = 'proj_ais_gaps_catena'\n",
    "\n",
    "pipeline_version = 'v20201001'\n",
    "pipeline_table = 'pipe_{}'.format(pipeline_version)\n",
    "segs_table = 'pipe_{}_segs'.format(pipeline_version)\n",
    "vi_version = 'v20210301'\n",
    "vd_version = 'v20210601'\n",
    "\n",
    "# Output tables version\n",
    "output_version = 'v20210722'\n",
    "create_tables = True\n",
    "\n",
    "# Date range\n",
    "start_date = date(2017,1, 1)\n",
    "end_date = date(2019,12, 31)\n",
    "\n",
    "# Min gap hours\n",
    "min_gap_hours = 6"
   ]
  },
  {
   "cell_type": "markdown",
   "id": "b64e29f8",
   "metadata": {},
   "source": [
    "Generate list of dates to produce for analysis."
   ]
  },
  {
   "cell_type": "code",
   "execution_count": 24,
   "id": "45436b47",
   "metadata": {},
   "outputs": [],
   "source": [
    "# Generate list of dates to run\n",
    "dates_to_run = utils.daterange(start_date, end_date)\n",
    "tp = []\n",
    "for dt in dates_to_run:\n",
    "    tp.append(dt.strftime(\"%Y-%m-%d\"))"
   ]
  },
  {
   "cell_type": "markdown",
   "id": "58c38a3f",
   "metadata": {},
   "source": [
    "# AIS Gaps dataset\n",
    "\n",
    "Generate a dataset of AIS gaps for time range. This involves running the following query sequence (queries in the `gaps` subdirectory):\n",
    "1. AIS off events: `ais_off_on_events.sql.j2` with `event` parameter set to `'off'`\n",
    "2. AIS on events: `ais_off_on_events.sql.j2` with `event` parameter set to `'on'`\n",
    "3. AIS gap events: Stitch off and on events together into gap events using `ais_gap_events.sql.j2`\n",
    "\n",
    "### Create tables\n",
    "\n",
    "First, create empty tables for all three tables."
   ]
  },
  {
   "cell_type": "code",
   "execution_count": null,
   "id": "ffabee5d",
   "metadata": {},
   "outputs": [],
   "source": [
    "# Destination tables\n",
    "off_events_table = 'ais_off_events_{}'.format(output_version)\n",
    "on_events_table = 'ais_on_events_{}'.format(output_version)\n",
    "gap_events_table = 'ais_gap_events_{}'.format(output_version)"
   ]
  },
  {
   "cell_type": "markdown",
   "id": "4a6512e9",
   "metadata": {},
   "source": [
    "Create tables for off/on events."
   ]
  },
  {
   "cell_type": "code",
   "execution_count": null,
   "id": "30ee527a",
   "metadata": {},
   "outputs": [],
   "source": [
    "if create_tables:\n",
    "    # Off events\n",
    "    utils.make_bq_partitioned_table(destination_dataset, off_events_table)\n",
    "    # On events\n",
    "    utils.make_bq_partitioned_table(destination_dataset, on_events_table)"
   ]
  },
  {
   "cell_type": "markdown",
   "id": "3ddca43d",
   "metadata": {},
   "source": [
    "### Off events\n",
    "\n",
    "Generate off events"
   ]
  },
  {
   "cell_type": "code",
   "execution_count": null,
   "id": "a38003df",
   "metadata": {},
   "outputs": [],
   "source": [
    "# Store commands\n",
    "cmds = []\n",
    "for t in tp:\n",
    "    cmd = utils.make_ais_events_table(pipeline_table=\"{}.{}\".format(\"gfw_research\", pipeline_table),\n",
    "                                segs_table=\"{}.{}\".format(\"gfw_research\", segs_table),\n",
    "                                event_type='off',\n",
    "                                date = t,\n",
    "                                min_gap_hours = min_gap_hours, \n",
    "                                precursors_dataset=destination_dataset,\n",
    "                                destination_table=off_events_table)\n",
    "    cmds.append(cmd)"
   ]
  },
  {
   "cell_type": "code",
   "execution_count": null,
   "id": "1207ec29",
   "metadata": {},
   "outputs": [],
   "source": [
    "# test query\n",
    "# test_cmd = cmds[0].split('|')[0]\n",
    "# os.system(test_cmd)\n",
    "# os.system(cmds[0])"
   ]
  },
  {
   "cell_type": "code",
   "execution_count": null,
   "id": "2cb0e2f1",
   "metadata": {},
   "outputs": [],
   "source": [
    "# Run queries\n",
    "utils.execute_commands_in_parallel(commands=cmds)"
   ]
  },
  {
   "cell_type": "markdown",
   "id": "5f9f337b",
   "metadata": {},
   "source": [
    "### On events\n",
    "\n",
    "Generate on events."
   ]
  },
  {
   "cell_type": "code",
   "execution_count": null,
   "id": "6fa705c7",
   "metadata": {},
   "outputs": [],
   "source": [
    "# Store commands\n",
    "on_cmds = []\n",
    "for t in tp:\n",
    "    cmd = utils.make_ais_events_table(pipeline_table=\"{}.{}\".format(\"gfw_research\", pipeline_table),\n",
    "                                segs_table=\"{}.{}\".format(\"gfw_research\", segs_table),\n",
    "                                event_type='on',\n",
    "                                date = t,\n",
    "                                min_gap_hours = min_gap_hours, \n",
    "                                precursors_dataset=destination_dataset,\n",
    "                                destination_table=on_events_table)\n",
    "    on_cmds.append(cmd)"
   ]
  },
  {
   "cell_type": "code",
   "execution_count": null,
   "id": "07bbb2bb",
   "metadata": {},
   "outputs": [],
   "source": [
    "# test query\n",
    "# test_cmd = on_cmds[0].split('|')[0]\n",
    "# os.system(test_cmd)"
   ]
  },
  {
   "cell_type": "code",
   "execution_count": null,
   "id": "4b421ff0",
   "metadata": {},
   "outputs": [],
   "source": [
    "# Run queries\n",
    "utils.execute_commands_in_parallel(commands=on_cmds)"
   ]
  },
  {
   "cell_type": "markdown",
   "id": "0b15ec95",
   "metadata": {},
   "source": [
    "### Gap events\n",
    "\n",
    "Combine off and on events into gap events.\n",
    "\n",
    "Create gap events table, partitioning on the `gap_start` field."
   ]
  },
  {
   "cell_type": "code",
   "execution_count": null,
   "id": "b0f7cb5a",
   "metadata": {},
   "outputs": [],
   "source": [
    "if create_tables:\n",
    "    gap_tbl_cmd = \"bq mk --schema=gaps/ais_gap_events.json \\\n",
    "    --time_partitioning_field=gap_start \\\n",
    "    --time_partitioning_type=DAY {}.{}\".format(destination_dataset, \n",
    "                                               gap_events_table)\n",
    "    os.system(gap_tbl_cmd)"
   ]
  },
  {
   "cell_type": "code",
   "execution_count": null,
   "id": "20da41e6",
   "metadata": {},
   "outputs": [],
   "source": [
    "latest_date = tp[-1]\n",
    "gap_cmd = utils.make_ais_gap_events_table(off_events_table = off_events_table,\n",
    "                                on_events_table = on_events_table,\n",
    "                                date = latest_date,\n",
    "                                precursors_dataset = destination_dataset,\n",
    "                                destination_dataset = destination_dataset,\n",
    "                                destination_table = gap_events_table)"
   ]
  },
  {
   "cell_type": "code",
   "execution_count": null,
   "id": "adff604b",
   "metadata": {},
   "outputs": [],
   "source": [
    "# test query\n",
    "# test_cmd = gap_cmd.split('|')[0]\n",
    "# os.system(test_cmd)\n",
    "# os.system(test_cmd)"
   ]
  },
  {
   "cell_type": "code",
   "execution_count": null,
   "id": "993c25d7",
   "metadata": {},
   "outputs": [],
   "source": [
    "# Run command\n",
    "os.system(gap_cmd)"
   ]
  },
  {
   "cell_type": "code",
   "execution_count": null,
   "id": "c2327de3",
   "metadata": {},
   "outputs": [],
   "source": [
    "# Update schema\n",
    "gap_schema_cmd = \"bq update --schema=gaps/ais_gap_events.json {}.{}\".format(destination_dataset, gap_events_table)\n",
    "os.system(gap_schema_cmd)"
   ]
  },
  {
   "cell_type": "markdown",
   "id": "dd38733e",
   "metadata": {},
   "source": [
    "### Fishing vessel gaps\n",
    "\n",
    "Lastly, create the final gaps model dataset by doing the following:\n",
    "\n",
    "+ subset the `ais_gap_events_vYYYYMMDD` dataset to only include fishing vessels \n",
    "+ Add additional model variables not calculated at the time of the gap events creation:\n",
    "    + pos\n",
    "\n",
    "**TODO** "
   ]
  },
  {
   "cell_type": "markdown",
   "id": "4a949ca3",
   "metadata": {},
   "source": [
    "# Loitering\n",
    "Produce datasets of loitering events and gridded loitering activity (at quarter degree) for use by the drivers of suspected disabling model."
   ]
  },
  {
   "cell_type": "code",
   "execution_count": null,
   "id": "f4b63411",
   "metadata": {},
   "outputs": [],
   "source": [
    "# Destination tables\n",
    "loitering_events_table = 'loitering_events_{}'.format(output_version)\n",
    "gridded_loitering_table = 'gridded_loitering_{}'.format(output_version)"
   ]
  },
  {
   "cell_type": "markdown",
   "id": "98078053",
   "metadata": {},
   "source": [
    "## Loitering events and gridded loitering\n",
    "\n",
    "Query all carrier loitering events between 2017-2019. This query does not exclude loitering events that have overlapping encounters under the assumption that carrier vessels having encounters could also be meeting non-broadcasting fishing vessels at the same time. \n",
    "\n",
    "After extracting events, produce a gridded dataset of all loitering events at quarter degree resolution."
   ]
  },
  {
   "cell_type": "code",
   "execution_count": null,
   "id": "51157164",
   "metadata": {},
   "outputs": [],
   "source": [
    "loitering_cmd = utils.make_loitering_events_table(vd_version = vd_version,\n",
    "                                                  pipeline_version = pipeline_version,\n",
    "                                                  destination_dataset = destination_dataset,\n",
    "                                                  destination_table = loitering_events_table)"
   ]
  },
  {
   "cell_type": "code",
   "execution_count": null,
   "id": "c98433f9",
   "metadata": {},
   "outputs": [],
   "source": [
    "# Run query\n",
    "if create_tables:\n",
    "    os.system(loitering_cmd)"
   ]
  },
  {
   "cell_type": "code",
   "execution_count": null,
   "id": "fdcd1fdb",
   "metadata": {},
   "outputs": [],
   "source": [
    "gridded_loitering_cmd = utils.make_gridded_loitering_table(destination_dataset = proj_dataset,\n",
    "                                                           output_version = output_version,\n",
    "                                                           destination_table = gridded_loitering_table)\n",
    "gridded_loitering_cmd"
   ]
  },
  {
   "cell_type": "code",
   "execution_count": null,
   "id": "65681eb1",
   "metadata": {},
   "outputs": [],
   "source": [
    "if create_tables:\n",
    "    os.system(gridded_loitering_cmd)"
   ]
  },
  {
   "cell_type": "markdown",
   "id": "21c8081b",
   "metadata": {},
   "source": [
    "## Fishing\n",
    "\n",
    "Produce dataset of gridded fishing effort (at quarter degree) for use by the drivers of suspected disabling model."
   ]
  },
  {
   "cell_type": "code",
   "execution_count": null,
   "id": "eaa5f1cc",
   "metadata": {},
   "outputs": [],
   "source": [
    "# Destination tables\n",
    "fishing_table = 'gridded_fishing_{}'.format(output_version)"
   ]
  },
  {
   "cell_type": "code",
   "execution_count": null,
   "id": "1a54221f",
   "metadata": {},
   "outputs": [],
   "source": [
    "fishing_cmd = utils.make_gridded_fishing_table(output_version = output_version,\n",
    "                                               pipeline_version = pipeline_version,\n",
    "                                               vi_version = vi_version,\n",
    "                                               destination_dataset = destination_dataset,\n",
    "                                               destination_table = fishing_table)"
   ]
  },
  {
   "cell_type": "code",
   "execution_count": null,
   "id": "d79891db",
   "metadata": {},
   "outputs": [],
   "source": [
    "# test query\n",
    "# test_cmd = fishing_cmd.split('|')[0]\n",
    "# test_cmd\n",
    "# os.system(test_cmd)\n",
    "# fishing_cmd"
   ]
  },
  {
   "cell_type": "code",
   "execution_count": null,
   "id": "fca00a75",
   "metadata": {},
   "outputs": [],
   "source": [
    "# Run query\n",
    "if create_tables:\n",
    "    os.system(fishing_cmd)"
   ]
  },
  {
   "cell_type": "markdown",
   "id": "6795c98b",
   "metadata": {},
   "source": [
    "# AIS Interpolation\n",
    "\n",
    "The next step is to generate tables of interpolated vessel positions. These tables are used subsequently for the following:\n",
    "- AIS reception\n",
    "- Time lost to gaps\n",
    "\n",
    "> The original reception quality method used a slightly different interpolation [query](https://github.com/GlobalFishingWatch/ais-gaps-and-reception/blob/master/data-production/hourly_interpoloation_v20191120.sql.j2)/table (`gfw_research_precursors.ais_positions_byssvid_hourly_v20191118`) than the [query](https://github.com/GlobalFishingWatch/ais-gaps-and-reception/blob/master/data-production/pipe-interpolation/hourly_interpoloation_v20201027.sql.j2) used to estimate time lost to gaps. These approaches have been combined/streamlined into the `interpolation/hourly_interpolation_byseg.sql.j2` in this repo.\n",
    "\n",
    "### Create tables\n",
    "\n",
    "First create empty date partitioned tables to store interpolated positions."
   ]
  },
  {
   "cell_type": "code",
   "execution_count": 25,
   "id": "e8e6956e",
   "metadata": {},
   "outputs": [],
   "source": [
    "# Destination tables\n",
    "# ais_positions_hourly = 'ais_positions_byssvid_hourly_{}'.format(output_version)\n",
    "# By seg_id\n",
    "ais_positions_hourly = 'ais_positions_byseg_hourly_{}'.format(output_version)\n",
    "\n",
    "ais_positions_hourly_fishing = 'ais_positions_byssvid_hourly_fishing_{}'.format(output_version)\n",
    "gap_positions_hourly = 'gap_positions_byssvid_hourly_{}'.format(output_version)\n",
    "loitering_positions_hourly = 'loitering_positions_byssvid_hourly_{}'.format(output_version)"
   ]
  },
  {
   "cell_type": "code",
   "execution_count": null,
   "id": "eaa9f897",
   "metadata": {},
   "outputs": [],
   "source": [
    "if create_tables:\n",
    "    # all positions hourly\n",
    "    utils.make_bq_partitioned_table(destination_dataset, ais_positions_hourly)\n",
    "    # fishing vessel positions hourly\n",
    "    utils.make_bq_partitioned_table(destination_dataset, ais_positions_hourly_fishing)\n",
    "    # gap positions hourly\n",
    "    utils.make_bq_partitioned_table(destination_dataset, gap_positions_hourly)"
   ]
  },
  {
   "cell_type": "markdown",
   "id": "d7bb0f49",
   "metadata": {},
   "source": [
    "### Interpolate all vessel positions\n",
    "\n",
    "Interpolate positions for all vessels."
   ]
  },
  {
   "cell_type": "code",
   "execution_count": null,
   "id": "598f7083",
   "metadata": {},
   "outputs": [],
   "source": [
    "# Store commands\n",
    "int_cmds = []\n",
    "for t in tp:\n",
    "    cmd = utils.make_hourly_interpolation_table(date = t,\n",
    "                                                destination_dataset = destination_dataset,\n",
    "                                                destination_table = ais_positions_hourly)\n",
    "    int_cmds.append(cmd)"
   ]
  },
  {
   "cell_type": "code",
   "execution_count": null,
   "id": "9d8423fa",
   "metadata": {},
   "outputs": [],
   "source": [
    "utils.execute_commands_in_parallel(int_cmds)"
   ]
  },
  {
   "cell_type": "markdown",
   "id": "c052be36",
   "metadata": {},
   "source": [
    "### Interpolate fishing vessel positions\n",
    "Interpolate positions for fishing vessels, including both `nnet_score` and `night_loitering` for determining when `squid_jiggers` are fishing.\n",
    "\n",
    "TODO: Update this to the same logic as for all vessels."
   ]
  },
  {
   "cell_type": "code",
   "execution_count": null,
   "id": "2629bd70",
   "metadata": {},
   "outputs": [],
   "source": [
    "# Store commands\n",
    "# int_fishing_cmds = []\n",
    "# for t in tp:\n",
    "#     cmd = utils.make_hourly_fishing_interpolation_table(date = t,\n",
    "#                                                 destination_dataset = destination_dataset,\n",
    "#                                                 destination_table = ais_positions_hourly_fishing)\n",
    "#     int_fishing_cmds.append(cmd)"
   ]
  },
  {
   "cell_type": "code",
   "execution_count": null,
   "id": "a5d2a1b9",
   "metadata": {},
   "outputs": [],
   "source": [
    "# utils.execute_commands_in_parallel(int_fishing_cmds)"
   ]
  },
  {
   "cell_type": "markdown",
   "id": "fc362c29",
   "metadata": {},
   "source": [
    "### Interpolate positions during AIS gap events\n",
    "\n",
    "> **Note:** Interpolating positions between gap events was originally done using the `raw_gaps_vYYYYMMDD` table, which included the gaps with additional parameters applied to them - e.g. `pos_x_hours_before`. Need to produce a version of this table or interpolate the gap events as is."
   ]
  },
  {
   "cell_type": "markdown",
   "id": "2453a956",
   "metadata": {},
   "source": [
    "## AIS Reception Quality\n",
    "\n",
    "Model AIS satellite reception quality to identify regions where AIS gap events are more/less suspicious. This is produced using the following process:\n",
    "\n",
    "**1. Calculate measured reception** - Calculates measured reception quality by AIS Class as the average number of positions received by a vessel in a day per one-degree grid cell\n",
    "\n",
    "**2. Interpolate reception** - To produce global maps of reception quality (e.g. not just in cells with AIS data) use a smoothing function to interpolate reception quality. \n",
    "\n",
    "### Create tables"
   ]
  },
  {
   "cell_type": "code",
   "execution_count": 26,
   "id": "9ab81b2b",
   "metadata": {},
   "outputs": [],
   "source": [
    "sat_reception_measured = 'sat_reception_measured_one_degree_{}'.format(output_version)\n",
    "sat_reception_smoothed = 'sat_reception_smoothed_one_degree_{}'.format(output_version)"
   ]
  },
  {
   "cell_type": "code",
   "execution_count": null,
   "id": "0ef867b0",
   "metadata": {},
   "outputs": [],
   "source": [
    "if create_tables:\n",
    "    # measured reception quality\n",
    "    utils.make_bq_partitioned_table(destination_dataset, sat_reception_measured)\n",
    "    # smoothed reception quality\n",
    "    utils.make_bq_partitioned_table(destination_dataset, sat_reception_smoothed)"
   ]
  },
  {
   "cell_type": "markdown",
   "id": "0555a8b1",
   "metadata": {},
   "source": [
    "### Measured reception quality"
   ]
  },
  {
   "cell_type": "code",
   "execution_count": 27,
   "id": "9d9334d3",
   "metadata": {},
   "outputs": [],
   "source": [
    "# Make list of month start dates for reception quality\n",
    "reception_dates = pd.date_range(start_date, end_date, freq='1M') - pd.offsets.MonthBegin(1)\n",
    "# reception_dates"
   ]
  },
  {
   "cell_type": "code",
   "execution_count": 28,
   "id": "068c5c81",
   "metadata": {},
   "outputs": [],
   "source": [
    "# Generate commands\n",
    "mr_cmds = []\n",
    "for r in reception_dates:\n",
    "#     print(str(r.date()))\n",
    "    cmd = utils.make_reception_measured_table(destination_table = sat_reception_measured, \n",
    "                                        destination_dataset = destination_dataset,\n",
    "                                        start_date = r, \n",
    "                                        vi_version = vi_version, \n",
    "                                        segs_table=\"{}.{}\".format(\"gfw_research\", segs_table),\n",
    "                                        output_version = output_version)\n",
    "\n",
    "    mr_cmds.append(cmd)"
   ]
  },
  {
   "cell_type": "code",
   "execution_count": null,
   "id": "235e8245",
   "metadata": {},
   "outputs": [],
   "source": [
    "utils.execute_commands_in_parallel(mr_cmds)"
   ]
  },
  {
   "cell_type": "code",
   "execution_count": 31,
   "id": "2d2da9ba",
   "metadata": {},
   "outputs": [
    {
     "name": "stdout",
     "output_type": "stream",
     "text": [
      "CREATE TEMP FUNCTION startdate() AS (DATE('2017-01-01'));\n",
      "CREATE TEMP FUNCTION enddate() AS (DATE('2017-02-01'));\n",
      "\n",
      "#### Reception Quality\n",
      "with\n",
      "\n",
      "good_ssvid as (\n",
      "    select ssvid\n",
      "    from `gfw_research.vi_ssvid_v20210301`\n",
      "    where best.best_vessel_class not in  (\"gear\", \"squid_jigger\", \"pole_and_line\")\n",
      "      and not activity.offsetting\n",
      "      and activity.active_positions > 1000\n",
      "      and best.best_vessel_class is not null\n",
      "),\n",
      "\n",
      "sat_ssvid as (\n",
      "    select ssvid,\n",
      "           sat_positions,\n",
      "           lat,\n",
      "           lon,\n",
      "           hour,\n",
      "           interpolated_speed_knots,\n",
      "           _partitiontime date ,\n",
      "           A_messages,\n",
      "           B_messages\n",
      "\n",
      "    # Use table grouped by segid\n",
      "    from `proj_ais_gaps_catena.ais_positions_byseg_hourly_v20210722`\n",
      "    where not interpolated_at_segment_startorend -- don't extrapolate out at the end of segments\n",
      "      and date(_partitiontime) >= startdate()\n",
      "      and date(_partitiontime) < enddate()\n",
      "      and ssvid in (select ssvid from good_ssvid)\n",
      "      # U"
     ]
    },
    {
     "data": {
      "text/plain": [
       "0"
      ]
     },
     "execution_count": 31,
     "metadata": {},
     "output_type": "execute_result"
    },
    {
     "name": "stdout",
     "output_type": "stream",
     "text": [
      "se good segments -- Check with David since we did this originally\n",
      "      # but he recently made a comment about not doing it\n",
      "      and seg_id IN (\n",
      "          SELECT\n",
      "          seg_id\n",
      "          FROM `gfw_research.pipe_v20201001_segs`\n",
      "          WHERE good_seg\n",
      "          AND NOT overlapping_and_short\n",
      "      )\n",
      "),\n",
      "\n",
      "by_half_day as (\n",
      "    select ssvid,\n",
      "           avg(interpolated_speed_knots) avg_interpolated_speed_knots,\n",
      "           min(interpolated_speed_knots) min_interpolated_speed_knots,\n",
      "           max(interpolated_speed_knots) max_interpolated_speed_knots,\n",
      "           sum(sat_positions)/count(*) sat_pos_per_hour,\n",
      "           floor(hour/12) day_half,\n",
      "           sum(A_messages) A_messages,\n",
      "           sum(B_messages) B_messages,\n",
      "           date\n",
      "    from sat_ssvid\n",
      "    group by ssvid, date, day_half\n",
      "),\n",
      "\n",
      "reception_quality as (\n",
      "    select floor(a.lat) lat_bin,\n",
      "           floor(a.lon) lon_bin,\n",
      "           if(by_half_day.A_messages > 0, \"A\", \"B\") class,\n",
      "           count(*) hours,\n",
      "           avg(sat_pos_per_hour) * 24 sat_pos_per_day\n",
      "    from sat_ssvid a\n",
      "    join by_half_day\n",
      "    on    a.ssvid=by_half_day.ssvid\n",
      "      and floor(a.hour/12) = by_half_day.day_half\n",
      "      and a.date = by_half_day.date\n",
      "      \n",
      "      and (-- if Class A, moving at the speed to ping once every 10 seconds\n",
      "           (by_half_day.A_messages > 0 and  min_interpolated_speed_knots > 0.5\n",
      "            and max_interpolated_speed_knots < 14)\n",
      "           or (by_half_day.B_messages > 0 and min_interpolated_speed_knots > 2 ))\n",
      "      \n",
      "      -- make sure it is just class A or class B... this might make it fail\n",
      "      -- for the vessels that are both A and B...\n",
      "      and not (by_half_day.A_messages > 0 and by_half_day.B_messages > 0)\n",
      "      and max_interpolated_speed_knots < 30 -- eliminate some weird noise\n",
      "    group by lat_bin, lon_bin, class\n",
      ")\n",
      "\n",
      "select class as cls, * except (class) from reception_quality\n"
     ]
    }
   ],
   "source": [
    "# test query\n",
    "test_cmd = mr_cmds[0].split('|')[0]\n",
    "os.system(test_cmd)"
   ]
  },
  {
   "cell_type": "markdown",
   "id": "0e276739",
   "metadata": {},
   "source": [
    "### Smoothed reception quality\n",
    "\n",
    "Next, interpolate the measured reception quality using a radial basis function. "
   ]
  },
  {
   "cell_type": "code",
   "execution_count": null,
   "id": "cba24eda",
   "metadata": {},
   "outputs": [],
   "source": [
    "for r in reception_dates:\n",
    "    print(str(r.date()))\n",
    "    utils.make_smooth_reception_table(start_date = r,\n",
    "                                      reception_measured_table = sat_reception_measured,\n",
    "                                      destination_dataset = destination_dataset,\n",
    "                                      destination_table = sat_reception_smoothed)"
   ]
  },
  {
   "cell_type": "markdown",
   "id": "9a5a55cf",
   "metadata": {},
   "source": [
    "### Plot reception quality\n"
   ]
  },
  {
   "cell_type": "code",
   "execution_count": null,
   "id": "7b8c26af",
   "metadata": {},
   "outputs": [],
   "source": [
    "for r in reception_dates:\n",
    "    print(str(r.date()))\n",
    "    \"\"\"\n",
    "    Query smoothed reception data\n",
    "    \"\"\"\n",
    "    month_reception_query = '''SELECT *\n",
    "                               FROM `{d}.{t}`\n",
    "                               WHERE _partitiontime = \"{m}\"'''.format(d = destination_dataset,\n",
    "                                                                      t = sat_reception_smoothed,\n",
    "                                                                      m = str(r.date())\n",
    "                                                                     )\n",
    "    # Query data\n",
    "    month_reception = pd.read_gbq(month_reception_query, project_id='world-fishing-827', dialect='standard')\n",
    "    \n",
    "    utils.plot_reception_quality(reception_start_date = r,\n",
    "                                 destination_dataset = destination_dataset,\n",
    "                                 reception_smoothed_table = sat_reception_smoothed,\n",
    "                                 reception_df = month_reception\n",
    "                            )"
   ]
  },
  {
   "cell_type": "markdown",
   "id": "e7d060d9",
   "metadata": {},
   "source": [
    "Plot average reception quality across the full time series"
   ]
  },
  {
   "cell_type": "code",
   "execution_count": null,
   "id": "ccd821ca",
   "metadata": {},
   "outputs": [],
   "source": [
    "\"\"\"\n",
    "Query smoothed reception data\n",
    "\"\"\"\n",
    "month_reception_query = '''SELECT \n",
    "                           lat_bin,\n",
    "                           lon_bin,\n",
    "                           class,\n",
    "                           AVG(positions_per_day) as positions_per_day\n",
    "                           FROM `{d}.{t}`\n",
    "                           WHERE _partitiontime BETWEEN \"2017-01-01\" \n",
    "                           AND \"2019-12-01\"\n",
    "                           GROUP BY 1,2,3'''.format(d = destination_dataset,\n",
    "                                                      t = sat_reception_smoothed)\n",
    "# Query data\n",
    "month_reception = pd.read_gbq(month_reception_query, project_id='world-fishing-827', dialect='standard')\n",
    "\n",
    "utils.plot_reception_quality(reception_start_date = r,\n",
    "                             destination_dataset = destination_dataset,\n",
    "                             reception_smoothed_table = sat_reception_smoothed,\n",
    "                             reception_df = month_reception\n",
    "                        )"
   ]
  },
  {
   "cell_type": "markdown",
   "id": "65ec1ddc",
   "metadata": {},
   "source": [
    "### Alternate reception quality"
   ]
  },
  {
   "cell_type": "code",
   "execution_count": 11,
   "id": "4625a8e1",
   "metadata": {},
   "outputs": [
    {
     "name": "stdout",
     "output_type": "stream",
     "text": [
      "Table 'world-fishing-827:proj_ais_gaps_catena.sat_reception_smoothed_one_degree_all_speeds_v20210722' successfully created.\n"
     ]
    }
   ],
   "source": [
    "# Create tables for alternate speed reception quality\n",
    "sat_reception_measured_all_speeds_tbl = 'sat_reception_measured_one_degree_all_speeds_{}'.format(output_version)\n",
    "sat_reception_smoothed_all_speeds_tbl = 'sat_reception_smoothed_one_degree_all_speeds_{}'.format(output_version)\n",
    "\n",
    "if create_tables:\n",
    "    # measured reception quality\n",
    "    utils.make_bq_partitioned_table(destination_dataset, sat_reception_measured_all_speeds_tbl)\n",
    "    utils.make_bq_partitioned_table(destination_dataset, sat_reception_smoothed_all_speeds_tbl)"
   ]
  },
  {
   "cell_type": "code",
   "execution_count": 18,
   "id": "a3716b47",
   "metadata": {},
   "outputs": [
    {
     "ename": "NameError",
     "evalue": "name 'sat_reception_measured' is not defined",
     "output_type": "error",
     "traceback": [
      "\u001b[0;31m---------------------------------------------------------------------------\u001b[0m",
      "\u001b[0;31mNameError\u001b[0m                                 Traceback (most recent call last)",
      "\u001b[0;32m/var/folders/ps/0bbzttjn0m13bb0nz5v43mr00000gn/T/ipykernel_43262/2282587276.py\u001b[0m in \u001b[0;36m<module>\u001b[0;34m\u001b[0m\n\u001b[1;32m      3\u001b[0m \u001b[0;32mfor\u001b[0m \u001b[0mr\u001b[0m \u001b[0;32min\u001b[0m \u001b[0mreception_dates\u001b[0m\u001b[0;34m[\u001b[0m\u001b[0;36m8\u001b[0m\u001b[0;34m:\u001b[0m\u001b[0;34m]\u001b[0m\u001b[0;34m:\u001b[0m\u001b[0;34m\u001b[0m\u001b[0;34m\u001b[0m\u001b[0m\n\u001b[1;32m      4\u001b[0m \u001b[0;31m#     print(str(r.date()))\u001b[0m\u001b[0;34m\u001b[0m\u001b[0;34m\u001b[0m\u001b[0;34m\u001b[0m\u001b[0m\n\u001b[0;32m----> 5\u001b[0;31m     cmd = utils.make_reception_measured_table(destination_table = sat_reception_measured, \n\u001b[0m\u001b[1;32m      6\u001b[0m                                         \u001b[0mdestination_dataset\u001b[0m \u001b[0;34m=\u001b[0m \u001b[0mdestination_dataset\u001b[0m\u001b[0;34m,\u001b[0m\u001b[0;34m\u001b[0m\u001b[0;34m\u001b[0m\u001b[0m\n\u001b[1;32m      7\u001b[0m                                         \u001b[0mstart_date\u001b[0m \u001b[0;34m=\u001b[0m \u001b[0mr\u001b[0m\u001b[0;34m,\u001b[0m\u001b[0;34m\u001b[0m\u001b[0;34m\u001b[0m\u001b[0m\n",
      "\u001b[0;31mNameError\u001b[0m: name 'sat_reception_measured' is not defined"
     ]
    }
   ],
   "source": [
    "# Generate commands\n",
    "mr_all_speed_cmds = []\n",
    "for r in reception_dates:\n",
    "#     print(str(r.date()))\n",
    "    cmd = utils.make_reception_measured_table(destination_table = sat_reception_measured, \n",
    "                                        destination_dataset = destination_dataset,\n",
    "                                        start_date = r, \n",
    "                                        vi_version = vi_version, \n",
    "                                        segs_table=\"{}.{}\".format(\"gfw_research\", segs_table),\n",
    "                                        output_version = output_version,\n",
    "                                        include_all_speeds = \"True\")\n",
    "\n",
    "    mr_all_speed_cmds.append(cmd)"
   ]
  },
  {
   "cell_type": "code",
   "execution_count": null,
   "id": "59c22855",
   "metadata": {},
   "outputs": [],
   "source": [
    "# Run commands\n",
    "utils.execute_commands_in_parallel(mr_all_speed_cmds)"
   ]
  },
  {
   "cell_type": "markdown",
   "id": "104dce1a",
   "metadata": {},
   "source": [
    "Now smooth the alternate reception quality maps."
   ]
  },
  {
   "cell_type": "code",
   "execution_count": 19,
   "id": "7c183fa8",
   "metadata": {},
   "outputs": [
    {
     "name": "stdout",
     "output_type": "stream",
     "text": [
      "2017-09-01\n",
      "Querying reception for 2017-09-01 00:00:00\n",
      "Interpolating reception for 2017-09-01 00:00:00\n"
     ]
    },
    {
     "name": "stderr",
     "output_type": "stream",
     "text": [
      "Upload complete.\n",
      "Waiting on bqjob_rcada3a9e311a42e_0000017bd192be83_1 ... (1s) Current status: DONE   \n"
     ]
    },
    {
     "name": "stdout",
     "output_type": "stream",
     "text": [
      "Loaded data for 2017-09-01 00:00:00 into proj_ais_gaps_catena.sat_reception_smoothed_one_degree_all_speeds_v20210722\\$20170901\n",
      "2017-10-01\n",
      "Querying reception for 2017-10-01 00:00:00\n",
      "Interpolating reception for 2017-10-01 00:00:00\n"
     ]
    },
    {
     "name": "stderr",
     "output_type": "stream",
     "text": [
      "Upload complete.\n",
      "Waiting on bqjob_r1507db40e541aaaa_0000017bd193966c_1 ... (2s) Current status: DONE   \n"
     ]
    },
    {
     "name": "stdout",
     "output_type": "stream",
     "text": [
      "Loaded data for 2017-10-01 00:00:00 into proj_ais_gaps_catena.sat_reception_smoothed_one_degree_all_speeds_v20210722\\$20171001\n",
      "2017-11-01\n",
      "Querying reception for 2017-11-01 00:00:00\n",
      "Interpolating reception for 2017-11-01 00:00:00\n"
     ]
    },
    {
     "name": "stderr",
     "output_type": "stream",
     "text": [
      "Upload complete.\n",
      "Waiting on bqjob_r5bea1db5e6d3d355_0000017bd19478b2_1 ... (1s) Current status: DONE   \n"
     ]
    },
    {
     "name": "stdout",
     "output_type": "stream",
     "text": [
      "Loaded data for 2017-11-01 00:00:00 into proj_ais_gaps_catena.sat_reception_smoothed_one_degree_all_speeds_v20210722\\$20171101\n",
      "2017-12-01\n",
      "Querying reception for 2017-12-01 00:00:00\n",
      "Interpolating reception for 2017-12-01 00:00:00\n"
     ]
    },
    {
     "name": "stderr",
     "output_type": "stream",
     "text": [
      "Upload complete.\n",
      "Waiting on bqjob_r2bcfebb400666a51_0000017bd1954b04_1 ... (1s) Current status: DONE   \n"
     ]
    },
    {
     "name": "stdout",
     "output_type": "stream",
     "text": [
      "Loaded data for 2017-12-01 00:00:00 into proj_ais_gaps_catena.sat_reception_smoothed_one_degree_all_speeds_v20210722\\$20171201\n",
      "2018-01-01\n",
      "Querying reception for 2018-01-01 00:00:00\n",
      "Interpolating reception for 2018-01-01 00:00:00\n"
     ]
    },
    {
     "name": "stderr",
     "output_type": "stream",
     "text": [
      "Upload complete.\n",
      "Waiting on bqjob_r1587146df7d40e33_0000017bd1962327_1 ... (1s) Current status: DONE   \n"
     ]
    },
    {
     "name": "stdout",
     "output_type": "stream",
     "text": [
      "Loaded data for 2018-01-01 00:00:00 into proj_ais_gaps_catena.sat_reception_smoothed_one_degree_all_speeds_v20210722\\$20180101\n",
      "2018-02-01\n",
      "Querying reception for 2018-02-01 00:00:00\n",
      "Interpolating reception for 2018-02-01 00:00:00\n"
     ]
    },
    {
     "name": "stderr",
     "output_type": "stream",
     "text": [
      "Upload complete.\n",
      "Waiting on bqjob_r3fbc3b59f065f87a_0000017bd196f178_1 ... (2s) Current status: DONE   \n"
     ]
    },
    {
     "name": "stdout",
     "output_type": "stream",
     "text": [
      "Loaded data for 2018-02-01 00:00:00 into proj_ais_gaps_catena.sat_reception_smoothed_one_degree_all_speeds_v20210722\\$20180201\n",
      "2018-03-01\n",
      "Querying reception for 2018-03-01 00:00:00\n",
      "Interpolating reception for 2018-03-01 00:00:00\n"
     ]
    },
    {
     "name": "stderr",
     "output_type": "stream",
     "text": [
      "Upload complete.\n",
      "Waiting on bqjob_rcbec449c882dfec_0000017bd197c900_1 ... (1s) Current status: DONE   \n"
     ]
    },
    {
     "name": "stdout",
     "output_type": "stream",
     "text": [
      "Loaded data for 2018-03-01 00:00:00 into proj_ais_gaps_catena.sat_reception_smoothed_one_degree_all_speeds_v20210722\\$20180301\n",
      "2018-04-01\n",
      "Querying reception for 2018-04-01 00:00:00\n",
      "Interpolating reception for 2018-04-01 00:00:00\n"
     ]
    },
    {
     "name": "stderr",
     "output_type": "stream",
     "text": [
      "Upload complete.\n",
      "Waiting on bqjob_r24d812c1aec5d7d7_0000017bd19899db_1 ... (1s) Current status: DONE   \n"
     ]
    },
    {
     "name": "stdout",
     "output_type": "stream",
     "text": [
      "Loaded data for 2018-04-01 00:00:00 into proj_ais_gaps_catena.sat_reception_smoothed_one_degree_all_speeds_v20210722\\$20180401\n",
      "2018-05-01\n",
      "Querying reception for 2018-05-01 00:00:00\n",
      "Interpolating reception for 2018-05-01 00:00:00\n"
     ]
    },
    {
     "name": "stderr",
     "output_type": "stream",
     "text": [
      "Upload complete.\n",
      "Waiting on bqjob_r79b653c75323a217_0000017bd1996cf0_1 ... (1s) Current status: DONE   \n"
     ]
    },
    {
     "name": "stdout",
     "output_type": "stream",
     "text": [
      "Loaded data for 2018-05-01 00:00:00 into proj_ais_gaps_catena.sat_reception_smoothed_one_degree_all_speeds_v20210722\\$20180501\n",
      "2018-06-01\n",
      "Querying reception for 2018-06-01 00:00:00\n",
      "Interpolating reception for 2018-06-01 00:00:00\n"
     ]
    },
    {
     "name": "stderr",
     "output_type": "stream",
     "text": [
      "Upload complete.\n",
      "Waiting on bqjob_r33e4fdb148f3bed1_0000017bd19a4606_1 ... (1s) Current status: DONE   \n"
     ]
    },
    {
     "name": "stdout",
     "output_type": "stream",
     "text": [
      "Loaded data for 2018-06-01 00:00:00 into proj_ais_gaps_catena.sat_reception_smoothed_one_degree_all_speeds_v20210722\\$20180601\n",
      "2018-07-01\n",
      "Querying reception for 2018-07-01 00:00:00\n",
      "Interpolating reception for 2018-07-01 00:00:00\n"
     ]
    },
    {
     "name": "stderr",
     "output_type": "stream",
     "text": [
      "Upload complete.\n",
      "Waiting on bqjob_r1e139acfe25c3545_0000017bd19b17e7_1 ... (1s) Current status: DONE   \n"
     ]
    },
    {
     "name": "stdout",
     "output_type": "stream",
     "text": [
      "Loaded data for 2018-07-01 00:00:00 into proj_ais_gaps_catena.sat_reception_smoothed_one_degree_all_speeds_v20210722\\$20180701\n",
      "2018-08-01\n",
      "Querying reception for 2018-08-01 00:00:00\n",
      "Interpolating reception for 2018-08-01 00:00:00\n"
     ]
    },
    {
     "name": "stderr",
     "output_type": "stream",
     "text": [
      "Upload complete.\n",
      "Waiting on bqjob_r17325bec5e1e3486_0000017bd19bf7ac_1 ... (1s) Current status: DONE   \n"
     ]
    },
    {
     "name": "stdout",
     "output_type": "stream",
     "text": [
      "Loaded data for 2018-08-01 00:00:00 into proj_ais_gaps_catena.sat_reception_smoothed_one_degree_all_speeds_v20210722\\$20180801\n",
      "2018-09-01\n",
      "Querying reception for 2018-09-01 00:00:00\n",
      "Interpolating reception for 2018-09-01 00:00:00\n"
     ]
    },
    {
     "name": "stderr",
     "output_type": "stream",
     "text": [
      "Upload complete.\n",
      "Waiting on bqjob_r21162f6682447877_0000017bd19cd51b_1 ... (1s) Current status: DONE   \n"
     ]
    },
    {
     "name": "stdout",
     "output_type": "stream",
     "text": [
      "Loaded data for 2018-09-01 00:00:00 into proj_ais_gaps_catena.sat_reception_smoothed_one_degree_all_speeds_v20210722\\$20180901\n",
      "2018-10-01\n",
      "Querying reception for 2018-10-01 00:00:00\n",
      "Interpolating reception for 2018-10-01 00:00:00\n"
     ]
    },
    {
     "name": "stderr",
     "output_type": "stream",
     "text": [
      "Upload complete.\n",
      "Waiting on bqjob_r37c2fab568371802_0000017bd19dac04_1 ... (1s) Current status: DONE   \n"
     ]
    },
    {
     "name": "stdout",
     "output_type": "stream",
     "text": [
      "Loaded data for 2018-10-01 00:00:00 into proj_ais_gaps_catena.sat_reception_smoothed_one_degree_all_speeds_v20210722\\$20181001\n",
      "2018-11-01\n",
      "Querying reception for 2018-11-01 00:00:00\n",
      "Interpolating reception for 2018-11-01 00:00:00\n"
     ]
    },
    {
     "name": "stderr",
     "output_type": "stream",
     "text": [
      "Upload complete.\n",
      "Waiting on bqjob_r7c37d2efe6f3e9aa_0000017bd19e9797_1 ... (1s) Current status: DONE   \n"
     ]
    },
    {
     "name": "stdout",
     "output_type": "stream",
     "text": [
      "Loaded data for 2018-11-01 00:00:00 into proj_ais_gaps_catena.sat_reception_smoothed_one_degree_all_speeds_v20210722\\$20181101\n",
      "2018-12-01\n",
      "Querying reception for 2018-12-01 00:00:00\n",
      "Interpolating reception for 2018-12-01 00:00:00\n"
     ]
    },
    {
     "name": "stderr",
     "output_type": "stream",
     "text": [
      "Upload complete.\n",
      "Waiting on bqjob_r405cf5c07bf7951a_0000017bd19f6a57_1 ... (1s) Current status: DONE   \n"
     ]
    },
    {
     "name": "stdout",
     "output_type": "stream",
     "text": [
      "Loaded data for 2018-12-01 00:00:00 into proj_ais_gaps_catena.sat_reception_smoothed_one_degree_all_speeds_v20210722\\$20181201\n",
      "2019-01-01\n",
      "Querying reception for 2019-01-01 00:00:00\n",
      "Interpolating reception for 2019-01-01 00:00:00\n"
     ]
    },
    {
     "name": "stderr",
     "output_type": "stream",
     "text": [
      "Upload complete.\n",
      "Waiting on bqjob_r34d4c11c254e960d_0000017bd1a0445c_1 ... (2s) Current status: DONE   \n"
     ]
    },
    {
     "name": "stdout",
     "output_type": "stream",
     "text": [
      "Loaded data for 2019-01-01 00:00:00 into proj_ais_gaps_catena.sat_reception_smoothed_one_degree_all_speeds_v20210722\\$20190101\n",
      "2019-02-01\n",
      "Querying reception for 2019-02-01 00:00:00\n",
      "Interpolating reception for 2019-02-01 00:00:00\n"
     ]
    },
    {
     "name": "stderr",
     "output_type": "stream",
     "text": [
      "Upload complete.\n",
      "Waiting on bqjob_r22973f575081430b_0000017bd1a11ef4_1 ... (1s) Current status: DONE   \n"
     ]
    },
    {
     "name": "stdout",
     "output_type": "stream",
     "text": [
      "Loaded data for 2019-02-01 00:00:00 into proj_ais_gaps_catena.sat_reception_smoothed_one_degree_all_speeds_v20210722\\$20190201\n",
      "2019-03-01\n",
      "Querying reception for 2019-03-01 00:00:00\n",
      "Interpolating reception for 2019-03-01 00:00:00\n"
     ]
    },
    {
     "name": "stderr",
     "output_type": "stream",
     "text": [
      "Upload complete.\n",
      "Waiting on bqjob_r227f6d5959753828_0000017bd1a1f2b1_1 ... (1s) Current status: DONE   \n"
     ]
    },
    {
     "name": "stdout",
     "output_type": "stream",
     "text": [
      "Loaded data for 2019-03-01 00:00:00 into proj_ais_gaps_catena.sat_reception_smoothed_one_degree_all_speeds_v20210722\\$20190301\n",
      "2019-04-01\n",
      "Querying reception for 2019-04-01 00:00:00\n",
      "Interpolating reception for 2019-04-01 00:00:00\n"
     ]
    },
    {
     "name": "stderr",
     "output_type": "stream",
     "text": [
      "Upload complete.\n",
      "Waiting on bqjob_r4edf296aee139c49_0000017bd1a2c136_1 ... (1s) Current status: DONE   \n"
     ]
    },
    {
     "name": "stdout",
     "output_type": "stream",
     "text": [
      "Loaded data for 2019-04-01 00:00:00 into proj_ais_gaps_catena.sat_reception_smoothed_one_degree_all_speeds_v20210722\\$20190401\n",
      "2019-05-01\n",
      "Querying reception for 2019-05-01 00:00:00\n",
      "Interpolating reception for 2019-05-01 00:00:00\n"
     ]
    },
    {
     "name": "stderr",
     "output_type": "stream",
     "text": [
      "Upload complete.\n",
      "Waiting on bqjob_r38b198aee3d964bd_0000017bd1dd503b_1 ... (1s) Current status: DONE   \n"
     ]
    },
    {
     "name": "stdout",
     "output_type": "stream",
     "text": [
      "Loaded data for 2019-05-01 00:00:00 into proj_ais_gaps_catena.sat_reception_smoothed_one_degree_all_speeds_v20210722\\$20190501\n",
      "2019-06-01\n",
      "Querying reception for 2019-06-01 00:00:00\n",
      "Interpolating reception for 2019-06-01 00:00:00\n"
     ]
    },
    {
     "name": "stderr",
     "output_type": "stream",
     "text": [
      "Upload complete.\n",
      "Waiting on bqjob_r3db1c7f11b4825a8_0000017bd1e7d246_1 ... (1s) Current status: DONE   \n"
     ]
    },
    {
     "name": "stdout",
     "output_type": "stream",
     "text": [
      "Loaded data for 2019-06-01 00:00:00 into proj_ais_gaps_catena.sat_reception_smoothed_one_degree_all_speeds_v20210722\\$20190601\n",
      "2019-07-01\n",
      "Querying reception for 2019-07-01 00:00:00\n",
      "Interpolating reception for 2019-07-01 00:00:00\n"
     ]
    },
    {
     "name": "stderr",
     "output_type": "stream",
     "text": [
      "Upload complete.\n",
      "Waiting on bqjob_r4bcf76ae39c5eccb_0000017bd1ee5806_1 ... (1s) Current status: DONE   \n"
     ]
    },
    {
     "name": "stdout",
     "output_type": "stream",
     "text": [
      "Loaded data for 2019-07-01 00:00:00 into proj_ais_gaps_catena.sat_reception_smoothed_one_degree_all_speeds_v20210722\\$20190701\n",
      "2019-08-01\n",
      "Querying reception for 2019-08-01 00:00:00\n",
      "Interpolating reception for 2019-08-01 00:00:00\n"
     ]
    },
    {
     "name": "stderr",
     "output_type": "stream",
     "text": [
      "Upload complete.\n",
      "Waiting on bqjob_r2dfe580de647efe1_0000017bd1f8a396_1 ... (1s) Current status: DONE   \n"
     ]
    },
    {
     "name": "stdout",
     "output_type": "stream",
     "text": [
      "Loaded data for 2019-08-01 00:00:00 into proj_ais_gaps_catena.sat_reception_smoothed_one_degree_all_speeds_v20210722\\$20190801\n",
      "2019-09-01\n",
      "Querying reception for 2019-09-01 00:00:00\n",
      "Interpolating reception for 2019-09-01 00:00:00\n"
     ]
    },
    {
     "name": "stderr",
     "output_type": "stream",
     "text": [
      "Upload complete.\n",
      "Waiting on bqjob_r822389fafb08efd_0000017bd2039ab5_1 ... (1s) Current status: DONE   \n"
     ]
    },
    {
     "name": "stdout",
     "output_type": "stream",
     "text": [
      "Loaded data for 2019-09-01 00:00:00 into proj_ais_gaps_catena.sat_reception_smoothed_one_degree_all_speeds_v20210722\\$20190901\n",
      "2019-10-01\n",
      "Querying reception for 2019-10-01 00:00:00\n",
      "Interpolating reception for 2019-10-01 00:00:00\n"
     ]
    },
    {
     "name": "stderr",
     "output_type": "stream",
     "text": [
      "Upload complete.\n",
      "Waiting on bqjob_r2723efa36c323d_0000017bd2159724_1 ... (1s) Current status: DONE   \n"
     ]
    },
    {
     "name": "stdout",
     "output_type": "stream",
     "text": [
      "Loaded data for 2019-10-01 00:00:00 into proj_ais_gaps_catena.sat_reception_smoothed_one_degree_all_speeds_v20210722\\$20191001\n",
      "2019-11-01\n",
      "Querying reception for 2019-11-01 00:00:00\n",
      "Interpolating reception for 2019-11-01 00:00:00\n"
     ]
    },
    {
     "name": "stderr",
     "output_type": "stream",
     "text": [
      "Upload complete.\n",
      "Waiting on bqjob_r52d758ce1b76cdba_0000017bd21851c9_1 ... (1s) Current status: DONE   \n"
     ]
    },
    {
     "name": "stdout",
     "output_type": "stream",
     "text": [
      "Loaded data for 2019-11-01 00:00:00 into proj_ais_gaps_catena.sat_reception_smoothed_one_degree_all_speeds_v20210722\\$20191101\n",
      "2019-12-01\n",
      "Querying reception for 2019-12-01 00:00:00\n",
      "Interpolating reception for 2019-12-01 00:00:00\n"
     ]
    },
    {
     "name": "stderr",
     "output_type": "stream",
     "text": [
      "Upload complete.\n",
      "Waiting on bqjob_r2ea911163041f30e_0000017bd21d44f8_1 ... (1s) Current status: RUNNING"
     ]
    },
    {
     "name": "stdout",
     "output_type": "stream",
     "text": [
      "Loaded data for 2019-12-01 00:00:00 into proj_ais_gaps_catena.sat_reception_smoothed_one_degree_all_speeds_v20210722\\$20191201\n"
     ]
    },
    {
     "name": "stderr",
     "output_type": "stream",
     "text": [
      "\r",
      "                                                                                      \r",
      "Waiting on bqjob_r2ea911163041f30e_0000017bd21d44f8_1 ... (1s) Current status: DONE   \n"
     ]
    }
   ],
   "source": [
    "for r in reception_dates[8:]:\n",
    "    print(str(r.date()))\n",
    "    utils.make_smooth_reception_table(start_date = r,\n",
    "                                      reception_measured_table = sat_reception_measured_all_speeds_tbl,\n",
    "                                      destination_dataset = destination_dataset,\n",
    "                                      destination_table = sat_reception_smoothed_all_speeds_tbl)"
   ]
  },
  {
   "cell_type": "code",
   "execution_count": 17,
   "id": "a0562f37",
   "metadata": {},
   "outputs": [
    {
     "data": {
      "text/plain": [
       "DatetimeIndex(['2017-09-01', '2017-10-01', '2017-11-01', '2017-12-01',\n",
       "               '2018-01-01', '2018-02-01', '2018-03-01', '2018-04-01',\n",
       "               '2018-05-01', '2018-06-01', '2018-07-01', '2018-08-01',\n",
       "               '2018-09-01', '2018-10-01', '2018-11-01', '2018-12-01',\n",
       "               '2019-01-01', '2019-02-01', '2019-03-01', '2019-04-01',\n",
       "               '2019-05-01', '2019-06-01', '2019-07-01', '2019-08-01',\n",
       "               '2019-09-01', '2019-10-01', '2019-11-01', '2019-12-01'],\n",
       "              dtype='datetime64[ns]', freq=None)"
      ]
     },
     "execution_count": 17,
     "metadata": {},
     "output_type": "execute_result"
    }
   ],
   "source": [
    "reception_dates[8:]"
   ]
  },
  {
   "cell_type": "markdown",
   "id": "53fc4eb4",
   "metadata": {},
   "source": [
    "## Final gap events table\n",
    "\n",
    "Create the final gap events table that is used as an input to the model of suspected drivers of AIS disabling. This table takes the `ais_gap_events_vYYYYMMDD` table created above and adds a handful of additional model features, including the smoothed reception quality."
   ]
  },
  {
   "cell_type": "code",
   "execution_count": null,
   "id": "80610467",
   "metadata": {},
   "outputs": [],
   "source": [
    "gap_events_features_table = 'ais_gap_events_features_{}'.format(output_version)\n",
    "gap_events_features_table"
   ]
  },
  {
   "cell_type": "code",
   "execution_count": null,
   "id": "d77e49f7",
   "metadata": {},
   "outputs": [],
   "source": [
    "if create_tables:\n",
    "    gap_features_tbl_cmd = \"bq mk --schema=gaps/ais_gap_events_features.json \\\n",
    "    --time_partitioning_field=gap_start \\\n",
    "    --time_partitioning_type=DAY {}.{}\".format(destination_dataset, \n",
    "                                               gap_events_features_table)\n",
    "    os.system(gap_features_tbl_cmd)"
   ]
  },
  {
   "cell_type": "code",
   "execution_count": null,
   "id": "b7aebff3",
   "metadata": {},
   "outputs": [],
   "source": [
    "gap_features_cmd = utils.make_ais_gap_events_features_table(pipeline_version=pipeline_version,\n",
    "                                                   vi_version=vi_version,\n",
    "                                                   output_version=output_version,\n",
    "                                                   start_date=str(start_date),\n",
    "                                                   end_date=str(end_date),\n",
    "                                                   destination_dataset=destination_dataset,\n",
    "                                                   destination_table=gap_events_features_table)\n",
    "\n",
    "# gap_features_cmd"
   ]
  },
  {
   "cell_type": "code",
   "execution_count": null,
   "id": "194258e2",
   "metadata": {},
   "outputs": [],
   "source": [
    "# test query\n",
    "# test_cmd = gap_features_cmd.split('|')[0]\n",
    "# os.system(test_cmd)"
   ]
  },
  {
   "cell_type": "code",
   "execution_count": null,
   "id": "5c5bf5c4",
   "metadata": {},
   "outputs": [],
   "source": [
    "# Run gap features query\n",
    "# WARNING: BIG QUERY (~3.5 TB)\n",
    "if create_tables:\n",
    "    os.system(gap_features_cmd)"
   ]
  },
  {
   "cell_type": "markdown",
   "id": "ed87048b",
   "metadata": {},
   "source": [
    "# Copy Tables\n",
    "\n",
    "If needed, copy tables to a different BigQuery dataset."
   ]
  },
  {
   "cell_type": "code",
   "execution_count": null,
   "id": "9429e362",
   "metadata": {},
   "outputs": [],
   "source": [
    "# Copy destination dataset\n",
    "cp_destination_dataset = 'proj_ais_gaps_catena'\n",
    "\n",
    "# List of tables to copy\n",
    "tables_to_cp = [\n",
    "    off_events_table,\n",
    "    on_events_table,\n",
    "    gap_events_table,\n",
    "    gap_events_features_table,\n",
    "    loitering_events_table,\n",
    "    gridded_loitering_table,\n",
    "    fishing_table,\n",
    "    ais_positions_hourly,\n",
    "    sat_reception_measured,\n",
    "    sat_reception_smoothed\n",
    "]\n",
    "\n",
    "if copy_tables:\n",
    "    for t in tables_to_cp:\n",
    "\n",
    "        print('Copying {d}.{t} \\n to {cd}.{t}'.format(d = destination_dataset,\n",
    "                                                  cd = cp_destination_dataset,\n",
    "                                                  t = t))\n",
    "        # Format query\n",
    "        cp_cmd = \"\"\"bq cp -n \\\n",
    "        {d}.{t} \\\n",
    "        {cd}.{t}\"\"\".format(d = destination_dataset,\n",
    "                           cd = cp_destination_dataset,\n",
    "                           t = t)\n",
    "\n",
    "        # Run command\n",
    "        os.system(cp_cmd)"
   ]
  },
  {
   "cell_type": "markdown",
   "id": "2e5a7459",
   "metadata": {},
   "source": [
    "# Download data\n",
    "\n",
    "Download the following datasets for us in the model to identify drivers of suspected disabling:\n",
    "+ Gap events with features\n",
    "+ Loitering events\n",
    "+ Gridded fishing"
   ]
  },
  {
   "cell_type": "code",
   "execution_count": null,
   "id": "92b950a5",
   "metadata": {},
   "outputs": [],
   "source": [
    "# Create results folder \n",
    "results_dir = \"../results\"\n",
    "# os.mkdir(results_dir)\n",
    "# Create folder for specific results version\n",
    "results_version_dir = os.path.join(results_dir, \"gap_inputs_{}\".format(output_version))\n",
    "# os.mkdir(results_version_dir)"
   ]
  },
  {
   "cell_type": "code",
   "execution_count": null,
   "id": "b2f77b01",
   "metadata": {},
   "outputs": [],
   "source": [
    "%%bigquery gap_events_features_df\n",
    "SELECT * \n",
    "FROM `world-fishing-827.scratch_tyler.ais_gap_events_features_v20210722` \n",
    "WHERE gap_hours >= 12\n",
    "AND gap_start < '2021-01-01'"
   ]
  },
  {
   "cell_type": "code",
   "execution_count": null,
   "id": "934b6bc7",
   "metadata": {},
   "outputs": [],
   "source": [
    "gap_events_features_df.to_csv('gap_events_features_{}.csv'.format(output_version), index = False)"
   ]
  },
  {
   "cell_type": "markdown",
   "id": "02b959ae",
   "metadata": {},
   "source": [
    "Download loitering events:"
   ]
  },
  {
   "cell_type": "code",
   "execution_count": null,
   "id": "317572d9",
   "metadata": {},
   "outputs": [],
   "source": [
    "%%bigquery loitering_events_df\n",
    "SELECT *\n",
    "FROM proj_ais_gaps_catena.loitering_events_v20210722"
   ]
  },
  {
   "cell_type": "code",
   "execution_count": null,
   "id": "768122fa",
   "metadata": {},
   "outputs": [],
   "source": [
    "loitering_events_df.to_csv('{d}/loitering_events_v20210722.csv'.format(d = results_version_dir), index = False)"
   ]
  },
  {
   "cell_type": "markdown",
   "id": "01aa7b1e",
   "metadata": {},
   "source": [
    "Gridded loitering"
   ]
  },
  {
   "cell_type": "code",
   "execution_count": null,
   "id": "195d8dbd",
   "metadata": {},
   "outputs": [],
   "source": [
    "%%bigquery gridded_loitering_df\n",
    "SELECT *\n",
    "FROM proj_ais_gaps_catena.gridded_loitering_v20210722"
   ]
  },
  {
   "cell_type": "code",
   "execution_count": null,
   "id": "452a68d3",
   "metadata": {},
   "outputs": [],
   "source": [
    "gridded_loitering_df.to_csv('{d}/loitering_quarter_degree_v20210722_2017_to_2019.csv'.format(d = results_version_dir), index = False)"
   ]
  },
  {
   "cell_type": "markdown",
   "id": "f9d88664",
   "metadata": {},
   "source": [
    "Download gridded fishing:"
   ]
  },
  {
   "cell_type": "code",
   "execution_count": null,
   "id": "2888fabc",
   "metadata": {},
   "outputs": [],
   "source": [
    "%%bigquery gridded_fishing_df\n",
    "SELECT *\n",
    "FROM proj_ais_gaps_catena.gridded_fishing_v20210722"
   ]
  },
  {
   "cell_type": "code",
   "execution_count": null,
   "id": "575b6b60",
   "metadata": {},
   "outputs": [],
   "source": [
    "gridded_fishing_df.to_csv('{d}/vessel_presence_quarter_degree_v20210722_2017_to_2019.csv'.format(d = results_version_dir), index = False)"
   ]
  },
  {
   "cell_type": "code",
   "execution_count": null,
   "id": "f3b90e24",
   "metadata": {},
   "outputs": [],
   "source": []
  }
 ],
 "metadata": {
  "jupytext": {
   "formats": "ipynb,py:light"
  },
  "kernelspec": {
   "display_name": "Python 3 (ipykernel)",
   "language": "python",
   "name": "python3"
  },
  "language_info": {
   "codemirror_mode": {
    "name": "ipython",
    "version": 3
   },
   "file_extension": ".py",
   "mimetype": "text/x-python",
   "name": "python",
   "nbconvert_exporter": "python",
   "pygments_lexer": "ipython3",
   "version": "3.9.6"
  }
 },
 "nbformat": 4,
 "nbformat_minor": 5
}
