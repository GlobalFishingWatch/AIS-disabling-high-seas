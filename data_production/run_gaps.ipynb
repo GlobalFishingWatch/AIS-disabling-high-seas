{
 "cells": [
  {
   "cell_type": "markdown",
   "metadata": {},
   "source": [
    "# Generate AIS reception and gap events datasets\n",
    "\n",
    "This notebook is a wrapper file for producing a complete set of results and inputs for Welch et al. (2021). It contains code for the following: \n",
    "\n",
    "1. Generate raw AIS gap events greater than 12 hours\n",
    "2. Generate monthly AIS reception maps\n",
    "3. Detect suspected AIS disabling events\n",
    "\n",
    "## Setup\n",
    "\n",
    "### Packages"
   ]
  },
  {
   "cell_type": "code",
   "execution_count": 1,
   "metadata": {},
   "outputs": [],
   "source": [
    "# Modules\n",
    "import os\n",
    "import pandas as pd\n",
    "import numpy as np\n",
    "import pandas_gbq\n",
    "from datetime import datetime, timedelta, date\n",
    "from dateutil.relativedelta import relativedelta\n",
    "import time\n",
    "from google.cloud import bigquery\n",
    "from jinja2 import Template\n",
    "import pyseas\n",
    "\n",
    "# project specific functions\n",
    "import utils \n",
    "\n",
    "%load_ext autoreload\n",
    "%autoreload 2\n",
    "\n",
    "# BigQuery client\n",
    "# client = bigquery.Client()"
   ]
  },
  {
   "cell_type": "markdown",
   "metadata": {},
   "source": [
    "### Inputs & Parameters"
   ]
  },
  {
   "cell_type": "code",
   "execution_count": 3,
   "metadata": {},
   "outputs": [],
   "source": [
    "# Input BQ datasets/tables\n",
    "gfw_research = 'gfw_research'\n",
    "gfw_research_precursors = 'gfw_research_precursors'\n",
    "destination_dataset = 'scratch_tyler''\n",
    "\n",
    "pipeline_version = 'v20201001'\n",
    "pipeline_table = 'pipe_{}'.format(pipeline_version)\n",
    "segs_table = 'pipe_{}_segs'.format(pipeline_version)\n",
    "vi_version = 'v20210301'\n",
    "\n",
    "# Output tables version\n",
    "output_version = 'v20210429'\n",
    "\n",
    "# Date range\n",
    "start_date = date(2017, 1, 1)\n",
    "end_date = date(2017, 1, 31)"
   ]
  },
  {
   "cell_type": "markdown",
   "metadata": {},
   "source": [
    "Generate list of dates to produce for analysis."
   ]
  },
  {
   "cell_type": "code",
   "execution_count": 7,
   "metadata": {},
   "outputs": [],
   "source": [
    "# Generate list of dates to run\n",
    "dates_to_run = utils.daterange(start_date, end_date)\n",
    "tp = []\n",
    "for dt in dates_to_run:\n",
    "    tp.append(dt.strftime(\"%Y-%m-%d\"))"
   ]
  },
  {
   "cell_type": "markdown",
   "metadata": {},
   "source": [
    "## AIS Gaps dataset\n",
    "\n",
    "Generate a dataset of AIS gaps for time range. This involves running the following query sequence (queries in the `gaps` subdirectory):\n",
    "1. AIS off events: `ais_off_on_events.sql.j2` with `event` parameter set to `'off'`\n",
    "2. AIS on events: `ais_off_on_events.sql.j2` with `event` parameter set to `'on'`\n",
    "3. AIS gap events: Stitch off and on events together into gap events using `ais_gap_events.sql.j2`\n",
    "\n",
    "### Create tables\n",
    "\n",
    "First, create empty tables for all three tables."
   ]
  },
  {
   "cell_type": "code",
   "execution_count": null,
   "metadata": {},
   "outputs": [],
   "source": [
    "# Destination tables\n",
    "off_events_table = 'ais_off_events_{}'.format(output_version)\n",
    "on_events_table = 'ais_on_events_{}'.format(output_version)\n",
    "gap_events_table = 'ais_gap_events_{}'.format(output_version)"
   ]
  },
  {
   "cell_type": "markdown",
   "metadata": {},
   "source": [
    "Create tables."
   ]
  },
  {
   "cell_type": "code",
   "execution_count": 5,
   "metadata": {},
   "outputs": [],
   "source": [
    "# Off events\n",
    "utils.make_bq_partitioned_table(destination_dataset, off_events_table)\n",
    "# On events\n",
    "utils.make_bq_partitioned_table(destination_dataset, on_events_table)\n",
    "# Gap events\n",
    "utils.make_bq_partitioned_table(destination_dataset, gap_events_table)"
   ]
  },
  {
   "cell_type": "markdown",
   "metadata": {},
   "source": [
    "### Off events\n",
    "\n",
    "Generate off events"
   ]
  },
  {
   "cell_type": "code",
   "execution_count": 13,
   "metadata": {},
   "outputs": [],
   "source": [
    "# Store commands\n",
    "cmds = []\n",
    "for t in tp:\n",
    "    cmd = utils.make_ais_events_table(pipeline_table=\"{}.{}\".format(\"gfw_research\", pipeline_table),\n",
    "                                segs_table=\"{}.{}\".format(\"gfw_research\", segs_table),\n",
    "                                event_type='off',\n",
    "                                date = t,\n",
    "                                min_gap_hours=12, \n",
    "                                precursors_dataset=destination_dataset,\n",
    "                                destination_table=off_events_table)\n",
    "    cmds.append(cmd)"
   ]
  },
  {
   "cell_type": "code",
   "execution_count": 15,
   "metadata": {},
   "outputs": [
    {
     "name": "stdout",
     "output_type": "stream",
     "text": [
      "['jinja2 gaps/ais_off_on_events.sql.j2     -D pipeline_table=\"gfw_research.pipe_v20201001\"     -D segs_table=\"gfw_research.pipe_v20201001_segs\"     -D event=\"off\"     -D date=\"2017-01-01\"     -D min_gap_length=12     |     bq query --replace     --destination_table=scratch_tyler.ais_off_events_v20210429\\\\$20170101    --allow_large_results --use_legacy_sql=false --max_rows=0\\n    ', 'jinja2 gaps/ais_off_on_events.sql.j2     -D pipeline_table=\"gfw_research.pipe_v20201001\"     -D segs_table=\"gfw_research.pipe_v20201001_segs\"     -D event=\"off\"     -D date=\"2017-01-02\"     -D min_gap_length=12     |     bq query --replace     --destination_table=scratch_tyler.ais_off_events_v20210429\\\\$20170102    --allow_large_results --use_legacy_sql=false --max_rows=0\\n    ', 'jinja2 gaps/ais_off_on_events.sql.j2     -D pipeline_table=\"gfw_research.pipe_v20201001\"     -D segs_table=\"gfw_research.pipe_v20201001_segs\"     -D event=\"off\"     -D date=\"2017-01-03\"     -D min_gap_length=12     |     bq query --replace     --destination_table=scratch_tyler.ais_off_events_v20210429\\\\$20170103    --allow_large_results --use_legacy_sql=false --max_rows=0\\n    ', 'jinja2 gaps/ais_off_on_events.sql.j2     -D pipeline_table=\"gfw_research.pipe_v20201001\"     -D segs_table=\"gfw_research.pipe_v20201001_segs\"     -D event=\"off\"     -D date=\"2017-01-04\"     -D min_gap_length=12     |     bq query --replace     --destination_table=scratch_tyler.ais_off_events_v20210429\\\\$20170104    --allow_large_results --use_legacy_sql=false --max_rows=0\\n    ', 'jinja2 gaps/ais_off_on_events.sql.j2     -D pipeline_table=\"gfw_research.pipe_v20201001\"     -D segs_table=\"gfw_research.pipe_v20201001_segs\"     -D event=\"off\"     -D date=\"2017-01-05\"     -D min_gap_length=12     |     bq query --replace     --destination_table=scratch_tyler.ais_off_events_v20210429\\\\$20170105    --allow_large_results --use_legacy_sql=false --max_rows=0\\n    ', 'jinja2 gaps/ais_off_on_events.sql.j2     -D pipeline_table=\"gfw_research.pipe_v20201001\"     -D segs_table=\"gfw_research.pipe_v20201001_segs\"     -D event=\"off\"     -D date=\"2017-01-06\"     -D min_gap_length=12     |     bq query --replace     --destination_table=scratch_tyler.ais_off_events_v20210429\\\\$20170106    --allow_large_results --use_legacy_sql=false --max_rows=0\\n    ', 'jinja2 gaps/ais_off_on_events.sql.j2     -D pipeline_table=\"gfw_research.pipe_v20201001\"     -D segs_table=\"gfw_research.pipe_v20201001_segs\"     -D event=\"off\"     -D date=\"2017-01-07\"     -D min_gap_length=12     |     bq query --replace     --destination_table=scratch_tyler.ais_off_events_v20210429\\\\$20170107    --allow_large_results --use_legacy_sql=false --max_rows=0\\n    ', 'jinja2 gaps/ais_off_on_events.sql.j2     -D pipeline_table=\"gfw_research.pipe_v20201001\"     -D segs_table=\"gfw_research.pipe_v20201001_segs\"     -D event=\"off\"     -D date=\"2017-01-08\"     -D min_gap_length=12     |     bq query --replace     --destination_table=scratch_tyler.ais_off_events_v20210429\\\\$20170108    --allow_large_results --use_legacy_sql=false --max_rows=0\\n    ', 'jinja2 gaps/ais_off_on_events.sql.j2     -D pipeline_table=\"gfw_research.pipe_v20201001\"     -D segs_table=\"gfw_research.pipe_v20201001_segs\"     -D event=\"off\"     -D date=\"2017-01-09\"     -D min_gap_length=12     |     bq query --replace     --destination_table=scratch_tyler.ais_off_events_v20210429\\\\$20170109    --allow_large_results --use_legacy_sql=false --max_rows=0\\n    ', 'jinja2 gaps/ais_off_on_events.sql.j2     -D pipeline_table=\"gfw_research.pipe_v20201001\"     -D segs_table=\"gfw_research.pipe_v20201001_segs\"     -D event=\"off\"     -D date=\"2017-01-10\"     -D min_gap_length=12     |     bq query --replace     --destination_table=scratch_tyler.ais_off_events_v20210429\\\\$20170110    --allow_large_results --use_legacy_sql=false --max_rows=0\\n    ', 'jinja2 gaps/ais_off_on_events.sql.j2     -D pipeline_table=\"gfw_research.pipe_v20201001\"     -D segs_table=\"gfw_research.pipe_v20201001_segs\"     -D event=\"off\"     -D date=\"2017-01-11\"     -D min_gap_length=12     |     bq query --replace     --destination_table=scratch_tyler.ais_off_events_v20210429\\\\$20170111    --allow_large_results --use_legacy_sql=false --max_rows=0\\n    ', 'jinja2 gaps/ais_off_on_events.sql.j2     -D pipeline_table=\"gfw_research.pipe_v20201001\"     -D segs_table=\"gfw_research.pipe_v20201001_segs\"     -D event=\"off\"     -D date=\"2017-01-12\"     -D min_gap_length=12     |     bq query --replace     --destination_table=scratch_tyler.ais_off_events_v20210429\\\\$20170112    --allow_large_results --use_legacy_sql=false --max_rows=0\\n    ', 'jinja2 gaps/ais_off_on_events.sql.j2     -D pipeline_table=\"gfw_research.pipe_v20201001\"     -D segs_table=\"gfw_research.pipe_v20201001_segs\"     -D event=\"off\"     -D date=\"2017-01-13\"     -D min_gap_length=12     |     bq query --replace     --destination_table=scratch_tyler.ais_off_events_v20210429\\\\$20170113    --allow_large_results --use_legacy_sql=false --max_rows=0\\n    ', 'jinja2 gaps/ais_off_on_events.sql.j2     -D pipeline_table=\"gfw_research.pipe_v20201001\"     -D segs_table=\"gfw_research.pipe_v20201001_segs\"     -D event=\"off\"     -D date=\"2017-01-14\"     -D min_gap_length=12     |     bq query --replace     --destination_table=scratch_tyler.ais_off_events_v20210429\\\\$20170114    --allow_large_results --use_legacy_sql=false --max_rows=0\\n    ', 'jinja2 gaps/ais_off_on_events.sql.j2     -D pipeline_table=\"gfw_research.pipe_v20201001\"     -D segs_table=\"gfw_research.pipe_v20201001_segs\"     -D event=\"off\"     -D date=\"2017-01-15\"     -D min_gap_length=12     |     bq query --replace     --destination_table=scratch_tyler.ais_off_events_v20210429\\\\$20170115    --allow_large_results --use_legacy_sql=false --max_rows=0\\n    ', 'jinja2 gaps/ais_off_on_events.sql.j2     -D pipeline_table=\"gfw_research.pipe_v20201001\"     -D segs_table=\"gfw_research.pipe_v20201001_segs\"     -D event=\"off\"     -D date=\"2017-01-16\"     -D min_gap_length=12     |     bq query --replace     --destination_table=scratch_tyler.ais_off_events_v20210429\\\\$20170116    --allow_large_results --use_legacy_sql=false --max_rows=0\\n    ', 'jinja2 gaps/ais_off_on_events.sql.j2     -D pipeline_table=\"gfw_research.pipe_v20201001\"     -D segs_table=\"gfw_research.pipe_v20201001_segs\"     -D event=\"off\"     -D date=\"2017-01-17\"     -D min_gap_length=12     |     bq query --replace     --destination_table=scratch_tyler.ais_off_events_v20210429\\\\$20170117    --allow_large_results --use_legacy_sql=false --max_rows=0\\n    ', 'jinja2 gaps/ais_off_on_events.sql.j2     -D pipeline_table=\"gfw_research.pipe_v20201001\"     -D segs_table=\"gfw_research.pipe_v20201001_segs\"     -D event=\"off\"     -D date=\"2017-01-18\"     -D min_gap_length=12     |     bq query --replace     --destination_table=scratch_tyler.ais_off_events_v20210429\\\\$20170118    --allow_large_results --use_legacy_sql=false --max_rows=0\\n    ', 'jinja2 gaps/ais_off_on_events.sql.j2     -D pipeline_table=\"gfw_research.pipe_v20201001\"     -D segs_table=\"gfw_research.pipe_v20201001_segs\"     -D event=\"off\"     -D date=\"2017-01-19\"     -D min_gap_length=12     |     bq query --replace     --destination_table=scratch_tyler.ais_off_events_v20210429\\\\$20170119    --allow_large_results --use_legacy_sql=false --max_rows=0\\n    ', 'jinja2 gaps/ais_off_on_events.sql.j2     -D pipeline_table=\"gfw_research.pipe_v20201001\"     -D segs_table=\"gfw_research.pipe_v20201001_segs\"     -D event=\"off\"     -D date=\"2017-01-20\"     -D min_gap_length=12     |     bq query --replace     --destination_table=scratch_tyler.ais_off_events_v20210429\\\\$20170120    --allow_large_results --use_legacy_sql=false --max_rows=0\\n    ', 'jinja2 gaps/ais_off_on_events.sql.j2     -D pipeline_table=\"gfw_research.pipe_v20201001\"     -D segs_table=\"gfw_research.pipe_v20201001_segs\"     -D event=\"off\"     -D date=\"2017-01-21\"     -D min_gap_length=12     |     bq query --replace     --destination_table=scratch_tyler.ais_off_events_v20210429\\\\$20170121    --allow_large_results --use_legacy_sql=false --max_rows=0\\n    ', 'jinja2 gaps/ais_off_on_events.sql.j2     -D pipeline_table=\"gfw_research.pipe_v20201001\"     -D segs_table=\"gfw_research.pipe_v20201001_segs\"     -D event=\"off\"     -D date=\"2017-01-22\"     -D min_gap_length=12     |     bq query --replace     --destination_table=scratch_tyler.ais_off_events_v20210429\\\\$20170122    --allow_large_results --use_legacy_sql=false --max_rows=0\\n    ', 'jinja2 gaps/ais_off_on_events.sql.j2     -D pipeline_table=\"gfw_research.pipe_v20201001\"     -D segs_table=\"gfw_research.pipe_v20201001_segs\"     -D event=\"off\"     -D date=\"2017-01-23\"     -D min_gap_length=12     |     bq query --replace     --destination_table=scratch_tyler.ais_off_events_v20210429\\\\$20170123    --allow_large_results --use_legacy_sql=false --max_rows=0\\n    ', 'jinja2 gaps/ais_off_on_events.sql.j2     -D pipeline_table=\"gfw_research.pipe_v20201001\"     -D segs_table=\"gfw_research.pipe_v20201001_segs\"     -D event=\"off\"     -D date=\"2017-01-24\"     -D min_gap_length=12     |     bq query --replace     --destination_table=scratch_tyler.ais_off_events_v20210429\\\\$20170124    --allow_large_results --use_legacy_sql=false --max_rows=0\\n    ', 'jinja2 gaps/ais_off_on_events.sql.j2     -D pipeline_table=\"gfw_research.pipe_v20201001\"     -D segs_table=\"gfw_research.pipe_v20201001_segs\"     -D event=\"off\"     -D date=\"2017-01-25\"     -D min_gap_length=12     |     bq query --replace     --destination_table=scratch_tyler.ais_off_events_v20210429\\\\$20170125    --allow_large_results --use_legacy_sql=false --max_rows=0\\n    ', 'jinja2 gaps/ais_off_on_events.sql.j2     -D pipeline_table=\"gfw_research.pipe_v20201001\"     -D segs_table=\"gfw_research.pipe_v20201001_segs\"     -D event=\"off\"     -D date=\"2017-01-26\"     -D min_gap_length=12     |     bq query --replace     --destination_table=scratch_tyler.ais_off_events_v20210429\\\\$20170126    --allow_large_results --use_legacy_sql=false --max_rows=0\\n    ', 'jinja2 gaps/ais_off_on_events.sql.j2     -D pipeline_table=\"gfw_research.pipe_v20201001\"     -D segs_table=\"gfw_research.pipe_v20201001_segs\"     -D event=\"off\"     -D date=\"2017-01-27\"     -D min_gap_length=12     |     bq query --replace     --destination_table=scratch_tyler.ais_off_events_v20210429\\\\$20170127    --allow_large_results --use_legacy_sql=false --max_rows=0\\n    ', 'jinja2 gaps/ais_off_on_events.sql.j2     -D pipeline_table=\"gfw_research.pipe_v20201001\"     -D segs_table=\"gfw_research.pipe_v20201001_segs\"     -D event=\"off\"     -D date=\"2017-01-28\"     -D min_gap_length=12     |     bq query --replace     --destination_table=scratch_tyler.ais_off_events_v20210429\\\\$20170128    --allow_large_results --use_legacy_sql=false --max_rows=0\\n    ', 'jinja2 gaps/ais_off_on_events.sql.j2     -D pipeline_table=\"gfw_research.pipe_v20201001\"     -D segs_table=\"gfw_research.pipe_v20201001_segs\"     -D event=\"off\"     -D date=\"2017-01-29\"     -D min_gap_length=12     |     bq query --replace     --destination_table=scratch_tyler.ais_off_events_v20210429\\\\$20170129    --allow_large_results --use_legacy_sql=false --max_rows=0\\n    ', 'jinja2 gaps/ais_off_on_events.sql.j2     -D pipeline_table=\"gfw_research.pipe_v20201001\"     -D segs_table=\"gfw_research.pipe_v20201001_segs\"     -D event=\"off\"     -D date=\"2017-01-30\"     -D min_gap_length=12     |     bq query --replace     --destination_table=scratch_tyler.ais_off_events_v20210429\\\\$20170130    --allow_large_results --use_legacy_sql=false --max_rows=0\\n    ', 'jinja2 gaps/ais_off_on_events.sql.j2     -D pipeline_table=\"gfw_research.pipe_v20201001\"     -D segs_table=\"gfw_research.pipe_v20201001_segs\"     -D event=\"off\"     -D date=\"2017-01-31\"     -D min_gap_length=12     |     bq query --replace     --destination_table=scratch_tyler.ais_off_events_v20210429\\\\$20170131    --allow_large_results --use_legacy_sql=false --max_rows=0\\n    ']\n"
     ]
    }
   ],
   "source": [
    "# Run queries\n",
    "utils.execute_commands_in_parallel(commands=cmds)"
   ]
  },
  {
   "cell_type": "markdown",
   "metadata": {},
   "source": [
    "### On events\n",
    "\n",
    "Generate on events."
   ]
  },
  {
   "cell_type": "code",
   "execution_count": 17,
   "metadata": {},
   "outputs": [],
   "source": [
    "# Store commands\n",
    "on_cmds = []\n",
    "for t in tp:\n",
    "    cmd = utils.make_ais_events_table(pipeline_table=\"{}.{}\".format(\"gfw_research\", pipeline_table),\n",
    "                                segs_table=\"{}.{}\".format(\"gfw_research\", segs_table),\n",
    "                                event_type='on',\n",
    "                                date = t,\n",
    "                                min_gap_hours=12, \n",
    "                                precursors_dataset=destination_dataset,\n",
    "                                destination_table=on_events_table)\n",
    "    on_cmds.append(cmd)"
   ]
  },
  {
   "cell_type": "code",
   "execution_count": 19,
   "metadata": {},
   "outputs": [
    {
     "name": "stdout",
     "output_type": "stream",
     "text": [
      "['jinja2 gaps/ais_off_on_events.sql.j2     -D pipeline_table=\"gfw_research.pipe_v20201001\"     -D segs_table=\"gfw_research.pipe_v20201001_segs\"     -D event=\"on\"     -D date=\"2017-01-01\"     -D min_gap_length=12     |     bq query --replace     --destination_table=scratch_tyler.ais_on_events_v20210429\\\\$20170101    --allow_large_results --use_legacy_sql=false --max_rows=0\\n    ', 'jinja2 gaps/ais_off_on_events.sql.j2     -D pipeline_table=\"gfw_research.pipe_v20201001\"     -D segs_table=\"gfw_research.pipe_v20201001_segs\"     -D event=\"on\"     -D date=\"2017-01-02\"     -D min_gap_length=12     |     bq query --replace     --destination_table=scratch_tyler.ais_on_events_v20210429\\\\$20170102    --allow_large_results --use_legacy_sql=false --max_rows=0\\n    ', 'jinja2 gaps/ais_off_on_events.sql.j2     -D pipeline_table=\"gfw_research.pipe_v20201001\"     -D segs_table=\"gfw_research.pipe_v20201001_segs\"     -D event=\"on\"     -D date=\"2017-01-03\"     -D min_gap_length=12     |     bq query --replace     --destination_table=scratch_tyler.ais_on_events_v20210429\\\\$20170103    --allow_large_results --use_legacy_sql=false --max_rows=0\\n    ', 'jinja2 gaps/ais_off_on_events.sql.j2     -D pipeline_table=\"gfw_research.pipe_v20201001\"     -D segs_table=\"gfw_research.pipe_v20201001_segs\"     -D event=\"on\"     -D date=\"2017-01-04\"     -D min_gap_length=12     |     bq query --replace     --destination_table=scratch_tyler.ais_on_events_v20210429\\\\$20170104    --allow_large_results --use_legacy_sql=false --max_rows=0\\n    ', 'jinja2 gaps/ais_off_on_events.sql.j2     -D pipeline_table=\"gfw_research.pipe_v20201001\"     -D segs_table=\"gfw_research.pipe_v20201001_segs\"     -D event=\"on\"     -D date=\"2017-01-05\"     -D min_gap_length=12     |     bq query --replace     --destination_table=scratch_tyler.ais_on_events_v20210429\\\\$20170105    --allow_large_results --use_legacy_sql=false --max_rows=0\\n    ', 'jinja2 gaps/ais_off_on_events.sql.j2     -D pipeline_table=\"gfw_research.pipe_v20201001\"     -D segs_table=\"gfw_research.pipe_v20201001_segs\"     -D event=\"on\"     -D date=\"2017-01-06\"     -D min_gap_length=12     |     bq query --replace     --destination_table=scratch_tyler.ais_on_events_v20210429\\\\$20170106    --allow_large_results --use_legacy_sql=false --max_rows=0\\n    ', 'jinja2 gaps/ais_off_on_events.sql.j2     -D pipeline_table=\"gfw_research.pipe_v20201001\"     -D segs_table=\"gfw_research.pipe_v20201001_segs\"     -D event=\"on\"     -D date=\"2017-01-07\"     -D min_gap_length=12     |     bq query --replace     --destination_table=scratch_tyler.ais_on_events_v20210429\\\\$20170107    --allow_large_results --use_legacy_sql=false --max_rows=0\\n    ', 'jinja2 gaps/ais_off_on_events.sql.j2     -D pipeline_table=\"gfw_research.pipe_v20201001\"     -D segs_table=\"gfw_research.pipe_v20201001_segs\"     -D event=\"on\"     -D date=\"2017-01-08\"     -D min_gap_length=12     |     bq query --replace     --destination_table=scratch_tyler.ais_on_events_v20210429\\\\$20170108    --allow_large_results --use_legacy_sql=false --max_rows=0\\n    ', 'jinja2 gaps/ais_off_on_events.sql.j2     -D pipeline_table=\"gfw_research.pipe_v20201001\"     -D segs_table=\"gfw_research.pipe_v20201001_segs\"     -D event=\"on\"     -D date=\"2017-01-09\"     -D min_gap_length=12     |     bq query --replace     --destination_table=scratch_tyler.ais_on_events_v20210429\\\\$20170109    --allow_large_results --use_legacy_sql=false --max_rows=0\\n    ', 'jinja2 gaps/ais_off_on_events.sql.j2     -D pipeline_table=\"gfw_research.pipe_v20201001\"     -D segs_table=\"gfw_research.pipe_v20201001_segs\"     -D event=\"on\"     -D date=\"2017-01-10\"     -D min_gap_length=12     |     bq query --replace     --destination_table=scratch_tyler.ais_on_events_v20210429\\\\$20170110    --allow_large_results --use_legacy_sql=false --max_rows=0\\n    ', 'jinja2 gaps/ais_off_on_events.sql.j2     -D pipeline_table=\"gfw_research.pipe_v20201001\"     -D segs_table=\"gfw_research.pipe_v20201001_segs\"     -D event=\"on\"     -D date=\"2017-01-11\"     -D min_gap_length=12     |     bq query --replace     --destination_table=scratch_tyler.ais_on_events_v20210429\\\\$20170111    --allow_large_results --use_legacy_sql=false --max_rows=0\\n    ', 'jinja2 gaps/ais_off_on_events.sql.j2     -D pipeline_table=\"gfw_research.pipe_v20201001\"     -D segs_table=\"gfw_research.pipe_v20201001_segs\"     -D event=\"on\"     -D date=\"2017-01-12\"     -D min_gap_length=12     |     bq query --replace     --destination_table=scratch_tyler.ais_on_events_v20210429\\\\$20170112    --allow_large_results --use_legacy_sql=false --max_rows=0\\n    ', 'jinja2 gaps/ais_off_on_events.sql.j2     -D pipeline_table=\"gfw_research.pipe_v20201001\"     -D segs_table=\"gfw_research.pipe_v20201001_segs\"     -D event=\"on\"     -D date=\"2017-01-13\"     -D min_gap_length=12     |     bq query --replace     --destination_table=scratch_tyler.ais_on_events_v20210429\\\\$20170113    --allow_large_results --use_legacy_sql=false --max_rows=0\\n    ', 'jinja2 gaps/ais_off_on_events.sql.j2     -D pipeline_table=\"gfw_research.pipe_v20201001\"     -D segs_table=\"gfw_research.pipe_v20201001_segs\"     -D event=\"on\"     -D date=\"2017-01-14\"     -D min_gap_length=12     |     bq query --replace     --destination_table=scratch_tyler.ais_on_events_v20210429\\\\$20170114    --allow_large_results --use_legacy_sql=false --max_rows=0\\n    ', 'jinja2 gaps/ais_off_on_events.sql.j2     -D pipeline_table=\"gfw_research.pipe_v20201001\"     -D segs_table=\"gfw_research.pipe_v20201001_segs\"     -D event=\"on\"     -D date=\"2017-01-15\"     -D min_gap_length=12     |     bq query --replace     --destination_table=scratch_tyler.ais_on_events_v20210429\\\\$20170115    --allow_large_results --use_legacy_sql=false --max_rows=0\\n    ', 'jinja2 gaps/ais_off_on_events.sql.j2     -D pipeline_table=\"gfw_research.pipe_v20201001\"     -D segs_table=\"gfw_research.pipe_v20201001_segs\"     -D event=\"on\"     -D date=\"2017-01-16\"     -D min_gap_length=12     |     bq query --replace     --destination_table=scratch_tyler.ais_on_events_v20210429\\\\$20170116    --allow_large_results --use_legacy_sql=false --max_rows=0\\n    ', 'jinja2 gaps/ais_off_on_events.sql.j2     -D pipeline_table=\"gfw_research.pipe_v20201001\"     -D segs_table=\"gfw_research.pipe_v20201001_segs\"     -D event=\"on\"     -D date=\"2017-01-17\"     -D min_gap_length=12     |     bq query --replace     --destination_table=scratch_tyler.ais_on_events_v20210429\\\\$20170117    --allow_large_results --use_legacy_sql=false --max_rows=0\\n    ', 'jinja2 gaps/ais_off_on_events.sql.j2     -D pipeline_table=\"gfw_research.pipe_v20201001\"     -D segs_table=\"gfw_research.pipe_v20201001_segs\"     -D event=\"on\"     -D date=\"2017-01-18\"     -D min_gap_length=12     |     bq query --replace     --destination_table=scratch_tyler.ais_on_events_v20210429\\\\$20170118    --allow_large_results --use_legacy_sql=false --max_rows=0\\n    ', 'jinja2 gaps/ais_off_on_events.sql.j2     -D pipeline_table=\"gfw_research.pipe_v20201001\"     -D segs_table=\"gfw_research.pipe_v20201001_segs\"     -D event=\"on\"     -D date=\"2017-01-19\"     -D min_gap_length=12     |     bq query --replace     --destination_table=scratch_tyler.ais_on_events_v20210429\\\\$20170119    --allow_large_results --use_legacy_sql=false --max_rows=0\\n    ', 'jinja2 gaps/ais_off_on_events.sql.j2     -D pipeline_table=\"gfw_research.pipe_v20201001\"     -D segs_table=\"gfw_research.pipe_v20201001_segs\"     -D event=\"on\"     -D date=\"2017-01-20\"     -D min_gap_length=12     |     bq query --replace     --destination_table=scratch_tyler.ais_on_events_v20210429\\\\$20170120    --allow_large_results --use_legacy_sql=false --max_rows=0\\n    ', 'jinja2 gaps/ais_off_on_events.sql.j2     -D pipeline_table=\"gfw_research.pipe_v20201001\"     -D segs_table=\"gfw_research.pipe_v20201001_segs\"     -D event=\"on\"     -D date=\"2017-01-21\"     -D min_gap_length=12     |     bq query --replace     --destination_table=scratch_tyler.ais_on_events_v20210429\\\\$20170121    --allow_large_results --use_legacy_sql=false --max_rows=0\\n    ', 'jinja2 gaps/ais_off_on_events.sql.j2     -D pipeline_table=\"gfw_research.pipe_v20201001\"     -D segs_table=\"gfw_research.pipe_v20201001_segs\"     -D event=\"on\"     -D date=\"2017-01-22\"     -D min_gap_length=12     |     bq query --replace     --destination_table=scratch_tyler.ais_on_events_v20210429\\\\$20170122    --allow_large_results --use_legacy_sql=false --max_rows=0\\n    ', 'jinja2 gaps/ais_off_on_events.sql.j2     -D pipeline_table=\"gfw_research.pipe_v20201001\"     -D segs_table=\"gfw_research.pipe_v20201001_segs\"     -D event=\"on\"     -D date=\"2017-01-23\"     -D min_gap_length=12     |     bq query --replace     --destination_table=scratch_tyler.ais_on_events_v20210429\\\\$20170123    --allow_large_results --use_legacy_sql=false --max_rows=0\\n    ', 'jinja2 gaps/ais_off_on_events.sql.j2     -D pipeline_table=\"gfw_research.pipe_v20201001\"     -D segs_table=\"gfw_research.pipe_v20201001_segs\"     -D event=\"on\"     -D date=\"2017-01-24\"     -D min_gap_length=12     |     bq query --replace     --destination_table=scratch_tyler.ais_on_events_v20210429\\\\$20170124    --allow_large_results --use_legacy_sql=false --max_rows=0\\n    ', 'jinja2 gaps/ais_off_on_events.sql.j2     -D pipeline_table=\"gfw_research.pipe_v20201001\"     -D segs_table=\"gfw_research.pipe_v20201001_segs\"     -D event=\"on\"     -D date=\"2017-01-25\"     -D min_gap_length=12     |     bq query --replace     --destination_table=scratch_tyler.ais_on_events_v20210429\\\\$20170125    --allow_large_results --use_legacy_sql=false --max_rows=0\\n    ', 'jinja2 gaps/ais_off_on_events.sql.j2     -D pipeline_table=\"gfw_research.pipe_v20201001\"     -D segs_table=\"gfw_research.pipe_v20201001_segs\"     -D event=\"on\"     -D date=\"2017-01-26\"     -D min_gap_length=12     |     bq query --replace     --destination_table=scratch_tyler.ais_on_events_v20210429\\\\$20170126    --allow_large_results --use_legacy_sql=false --max_rows=0\\n    ', 'jinja2 gaps/ais_off_on_events.sql.j2     -D pipeline_table=\"gfw_research.pipe_v20201001\"     -D segs_table=\"gfw_research.pipe_v20201001_segs\"     -D event=\"on\"     -D date=\"2017-01-27\"     -D min_gap_length=12     |     bq query --replace     --destination_table=scratch_tyler.ais_on_events_v20210429\\\\$20170127    --allow_large_results --use_legacy_sql=false --max_rows=0\\n    ', 'jinja2 gaps/ais_off_on_events.sql.j2     -D pipeline_table=\"gfw_research.pipe_v20201001\"     -D segs_table=\"gfw_research.pipe_v20201001_segs\"     -D event=\"on\"     -D date=\"2017-01-28\"     -D min_gap_length=12     |     bq query --replace     --destination_table=scratch_tyler.ais_on_events_v20210429\\\\$20170128    --allow_large_results --use_legacy_sql=false --max_rows=0\\n    ', 'jinja2 gaps/ais_off_on_events.sql.j2     -D pipeline_table=\"gfw_research.pipe_v20201001\"     -D segs_table=\"gfw_research.pipe_v20201001_segs\"     -D event=\"on\"     -D date=\"2017-01-29\"     -D min_gap_length=12     |     bq query --replace     --destination_table=scratch_tyler.ais_on_events_v20210429\\\\$20170129    --allow_large_results --use_legacy_sql=false --max_rows=0\\n    ', 'jinja2 gaps/ais_off_on_events.sql.j2     -D pipeline_table=\"gfw_research.pipe_v20201001\"     -D segs_table=\"gfw_research.pipe_v20201001_segs\"     -D event=\"on\"     -D date=\"2017-01-30\"     -D min_gap_length=12     |     bq query --replace     --destination_table=scratch_tyler.ais_on_events_v20210429\\\\$20170130    --allow_large_results --use_legacy_sql=false --max_rows=0\\n    ', 'jinja2 gaps/ais_off_on_events.sql.j2     -D pipeline_table=\"gfw_research.pipe_v20201001\"     -D segs_table=\"gfw_research.pipe_v20201001_segs\"     -D event=\"on\"     -D date=\"2017-01-31\"     -D min_gap_length=12     |     bq query --replace     --destination_table=scratch_tyler.ais_on_events_v20210429\\\\$20170131    --allow_large_results --use_legacy_sql=false --max_rows=0\\n    ']\n"
     ]
    }
   ],
   "source": [
    "# Run queries\n",
    "utils.execute_commands_in_parallel(commands=on_cmds)"
   ]
  },
  {
   "cell_type": "markdown",
   "metadata": {},
   "source": [
    "### Gap events\n",
    "\n",
    "Combine off and on events into gap events."
   ]
  },
  {
   "cell_type": "code",
   "execution_count": 23,
   "metadata": {},
   "outputs": [],
   "source": [
    "latest_date = tp[-1]\n",
    "gap_cmd = utils.make_ais_gap_events_table(off_events_table = off_events_table,\n",
    "                                on_events_table = on_events_table,\n",
    "                                date = latest_date,\n",
    "                                precursors_dataset = destination_dataset,\n",
    "                                destination_dataset = destination_dataset,\n",
    "                                destination_table = gap_events_table)"
   ]
  },
  {
   "cell_type": "code",
   "execution_count": 25,
   "metadata": {},
   "outputs": [
    {
     "data": {
      "text/plain": [
       "0"
      ]
     },
     "execution_count": 25,
     "metadata": {},
     "output_type": "execute_result"
    }
   ],
   "source": [
    "# Run command\n",
    "os.system(gap_cmd)"
   ]
  },
  {
   "cell_type": "markdown",
   "metadata": {},
   "source": [
    "## AIS Interpolation\n",
    "\n",
    "The next step is to generate tables of interpolated vessel positions. These tables are used subsequently for the following:\n",
    "- AIS reception\n",
    "- Time lost to gaps\n",
    "\n",
    "### Create tables\n",
    "\n",
    "First create empty date partitioned tables to store interpolated positions."
   ]
  },
  {
   "cell_type": "code",
   "execution_count": 29,
   "metadata": {},
   "outputs": [],
   "source": [
    "# Destination tables\n",
    "ais_positions_hourly = 'ais_positions_byssvid_hourly_{}'.format(output_version)\n",
    "ais_positions_hourly_fishing = 'ais_positions_byssvid_hourly_fishing_{}'.format(output_version)\n",
    "gap_positions_hourly = 'gap_positions_byssvid_hourly_{}'.format(output_version)\n",
    "loitering_positions_hourly = 'loitering_positions_byssvid_hourly_{}'.format(output_version)"
   ]
  },
  {
   "cell_type": "code",
   "execution_count": 30,
   "metadata": {},
   "outputs": [],
   "source": [
    "# all positions hourly\n",
    "utils.make_bq_partitioned_table(destination_dataset, ais_positions_hourly)\n",
    "# fishing vessel positions hourly\n",
    "utils.make_bq_partitioned_table(destination_dataset, ais_positions_hourly_fishing)\n",
    "# gap positions hourly\n",
    "utils.make_bq_partitioned_table(destination_dataset, gap_positions_hourly)"
   ]
  },
  {
   "cell_type": "markdown",
   "metadata": {},
   "source": [
    "### Interpolate all vessel positions\n",
    "\n",
    "Interpolate positions for all vessels."
   ]
  },
  {
   "cell_type": "code",
   "execution_count": 46,
   "metadata": {},
   "outputs": [],
   "source": [
    "# Store commands\n",
    "int_cmds = []\n",
    "for t in tp:\n",
    "    cmd = utils.make_hourly_interpolation_table(date = t,\n",
    "                                                destination_dataset = destination_dataset,\n",
    "                                                destination_table = ais_positions_hourly)\n",
    "    int_cmds.append(cmd)"
   ]
  },
  {
   "cell_type": "code",
   "execution_count": 48,
   "metadata": {},
   "outputs": [
    {
     "name": "stdout",
     "output_type": "stream",
     "text": [
      "['jinja2 interpolation/hourly_interpolation.sql.j2           -D YYYY_MM_DD=\"2017-01-01\"        |         bq query --replace         --destination_table=scratch_tyler.ais_positions_byssvid_hourly_v20210429\\\\$20170101         --allow_large_results --use_legacy_sql=false ', 'jinja2 interpolation/hourly_interpolation.sql.j2           -D YYYY_MM_DD=\"2017-01-02\"        |         bq query --replace         --destination_table=scratch_tyler.ais_positions_byssvid_hourly_v20210429\\\\$20170102         --allow_large_results --use_legacy_sql=false ', 'jinja2 interpolation/hourly_interpolation.sql.j2           -D YYYY_MM_DD=\"2017-01-03\"        |         bq query --replace         --destination_table=scratch_tyler.ais_positions_byssvid_hourly_v20210429\\\\$20170103         --allow_large_results --use_legacy_sql=false ', 'jinja2 interpolation/hourly_interpolation.sql.j2           -D YYYY_MM_DD=\"2017-01-04\"        |         bq query --replace         --destination_table=scratch_tyler.ais_positions_byssvid_hourly_v20210429\\\\$20170104         --allow_large_results --use_legacy_sql=false ', 'jinja2 interpolation/hourly_interpolation.sql.j2           -D YYYY_MM_DD=\"2017-01-05\"        |         bq query --replace         --destination_table=scratch_tyler.ais_positions_byssvid_hourly_v20210429\\\\$20170105         --allow_large_results --use_legacy_sql=false ', 'jinja2 interpolation/hourly_interpolation.sql.j2           -D YYYY_MM_DD=\"2017-01-06\"        |         bq query --replace         --destination_table=scratch_tyler.ais_positions_byssvid_hourly_v20210429\\\\$20170106         --allow_large_results --use_legacy_sql=false ', 'jinja2 interpolation/hourly_interpolation.sql.j2           -D YYYY_MM_DD=\"2017-01-07\"        |         bq query --replace         --destination_table=scratch_tyler.ais_positions_byssvid_hourly_v20210429\\\\$20170107         --allow_large_results --use_legacy_sql=false ', 'jinja2 interpolation/hourly_interpolation.sql.j2           -D YYYY_MM_DD=\"2017-01-08\"        |         bq query --replace         --destination_table=scratch_tyler.ais_positions_byssvid_hourly_v20210429\\\\$20170108         --allow_large_results --use_legacy_sql=false ', 'jinja2 interpolation/hourly_interpolation.sql.j2           -D YYYY_MM_DD=\"2017-01-09\"        |         bq query --replace         --destination_table=scratch_tyler.ais_positions_byssvid_hourly_v20210429\\\\$20170109         --allow_large_results --use_legacy_sql=false ', 'jinja2 interpolation/hourly_interpolation.sql.j2           -D YYYY_MM_DD=\"2017-01-10\"        |         bq query --replace         --destination_table=scratch_tyler.ais_positions_byssvid_hourly_v20210429\\\\$20170110         --allow_large_results --use_legacy_sql=false ', 'jinja2 interpolation/hourly_interpolation.sql.j2           -D YYYY_MM_DD=\"2017-01-11\"        |         bq query --replace         --destination_table=scratch_tyler.ais_positions_byssvid_hourly_v20210429\\\\$20170111         --allow_large_results --use_legacy_sql=false ', 'jinja2 interpolation/hourly_interpolation.sql.j2           -D YYYY_MM_DD=\"2017-01-12\"        |         bq query --replace         --destination_table=scratch_tyler.ais_positions_byssvid_hourly_v20210429\\\\$20170112         --allow_large_results --use_legacy_sql=false ', 'jinja2 interpolation/hourly_interpolation.sql.j2           -D YYYY_MM_DD=\"2017-01-13\"        |         bq query --replace         --destination_table=scratch_tyler.ais_positions_byssvid_hourly_v20210429\\\\$20170113         --allow_large_results --use_legacy_sql=false ', 'jinja2 interpolation/hourly_interpolation.sql.j2           -D YYYY_MM_DD=\"2017-01-14\"        |         bq query --replace         --destination_table=scratch_tyler.ais_positions_byssvid_hourly_v20210429\\\\$20170114         --allow_large_results --use_legacy_sql=false ', 'jinja2 interpolation/hourly_interpolation.sql.j2           -D YYYY_MM_DD=\"2017-01-15\"        |         bq query --replace         --destination_table=scratch_tyler.ais_positions_byssvid_hourly_v20210429\\\\$20170115         --allow_large_results --use_legacy_sql=false ', 'jinja2 interpolation/hourly_interpolation.sql.j2           -D YYYY_MM_DD=\"2017-01-16\"        |         bq query --replace         --destination_table=scratch_tyler.ais_positions_byssvid_hourly_v20210429\\\\$20170116         --allow_large_results --use_legacy_sql=false ', 'jinja2 interpolation/hourly_interpolation.sql.j2           -D YYYY_MM_DD=\"2017-01-17\"        |         bq query --replace         --destination_table=scratch_tyler.ais_positions_byssvid_hourly_v20210429\\\\$20170117         --allow_large_results --use_legacy_sql=false ', 'jinja2 interpolation/hourly_interpolation.sql.j2           -D YYYY_MM_DD=\"2017-01-18\"        |         bq query --replace         --destination_table=scratch_tyler.ais_positions_byssvid_hourly_v20210429\\\\$20170118         --allow_large_results --use_legacy_sql=false ', 'jinja2 interpolation/hourly_interpolation.sql.j2           -D YYYY_MM_DD=\"2017-01-19\"        |         bq query --replace         --destination_table=scratch_tyler.ais_positions_byssvid_hourly_v20210429\\\\$20170119         --allow_large_results --use_legacy_sql=false ', 'jinja2 interpolation/hourly_interpolation.sql.j2           -D YYYY_MM_DD=\"2017-01-20\"        |         bq query --replace         --destination_table=scratch_tyler.ais_positions_byssvid_hourly_v20210429\\\\$20170120         --allow_large_results --use_legacy_sql=false ', 'jinja2 interpolation/hourly_interpolation.sql.j2           -D YYYY_MM_DD=\"2017-01-21\"        |         bq query --replace         --destination_table=scratch_tyler.ais_positions_byssvid_hourly_v20210429\\\\$20170121         --allow_large_results --use_legacy_sql=false ', 'jinja2 interpolation/hourly_interpolation.sql.j2           -D YYYY_MM_DD=\"2017-01-22\"        |         bq query --replace         --destination_table=scratch_tyler.ais_positions_byssvid_hourly_v20210429\\\\$20170122         --allow_large_results --use_legacy_sql=false ', 'jinja2 interpolation/hourly_interpolation.sql.j2           -D YYYY_MM_DD=\"2017-01-23\"        |         bq query --replace         --destination_table=scratch_tyler.ais_positions_byssvid_hourly_v20210429\\\\$20170123         --allow_large_results --use_legacy_sql=false ', 'jinja2 interpolation/hourly_interpolation.sql.j2           -D YYYY_MM_DD=\"2017-01-24\"        |         bq query --replace         --destination_table=scratch_tyler.ais_positions_byssvid_hourly_v20210429\\\\$20170124         --allow_large_results --use_legacy_sql=false ', 'jinja2 interpolation/hourly_interpolation.sql.j2           -D YYYY_MM_DD=\"2017-01-25\"        |         bq query --replace         --destination_table=scratch_tyler.ais_positions_byssvid_hourly_v20210429\\\\$20170125         --allow_large_results --use_legacy_sql=false ', 'jinja2 interpolation/hourly_interpolation.sql.j2           -D YYYY_MM_DD=\"2017-01-26\"        |         bq query --replace         --destination_table=scratch_tyler.ais_positions_byssvid_hourly_v20210429\\\\$20170126         --allow_large_results --use_legacy_sql=false ', 'jinja2 interpolation/hourly_interpolation.sql.j2           -D YYYY_MM_DD=\"2017-01-27\"        |         bq query --replace         --destination_table=scratch_tyler.ais_positions_byssvid_hourly_v20210429\\\\$20170127         --allow_large_results --use_legacy_sql=false ', 'jinja2 interpolation/hourly_interpolation.sql.j2           -D YYYY_MM_DD=\"2017-01-28\"        |         bq query --replace         --destination_table=scratch_tyler.ais_positions_byssvid_hourly_v20210429\\\\$20170128         --allow_large_results --use_legacy_sql=false ', 'jinja2 interpolation/hourly_interpolation.sql.j2           -D YYYY_MM_DD=\"2017-01-29\"        |         bq query --replace         --destination_table=scratch_tyler.ais_positions_byssvid_hourly_v20210429\\\\$20170129         --allow_large_results --use_legacy_sql=false ', 'jinja2 interpolation/hourly_interpolation.sql.j2           -D YYYY_MM_DD=\"2017-01-30\"        |         bq query --replace         --destination_table=scratch_tyler.ais_positions_byssvid_hourly_v20210429\\\\$20170130         --allow_large_results --use_legacy_sql=false ', 'jinja2 interpolation/hourly_interpolation.sql.j2           -D YYYY_MM_DD=\"2017-01-31\"        |         bq query --replace         --destination_table=scratch_tyler.ais_positions_byssvid_hourly_v20210429\\\\$20170131         --allow_large_results --use_legacy_sql=false ']\n"
     ]
    }
   ],
   "source": [
    "utils.execute_commands_in_parallel(int_cmds)"
   ]
  },
  {
   "cell_type": "code",
   "execution_count": null,
   "metadata": {},
   "outputs": [],
   "source": []
  }
 ],
 "metadata": {
  "jupytext": {
   "formats": "ipynb,py:light"
  },
  "kernelspec": {
   "display_name": "Python 3",
   "language": "python",
   "name": "python3"
  },
  "language_info": {
   "codemirror_mode": {
    "name": "ipython",
    "version": 3
   },
   "file_extension": ".py",
   "mimetype": "text/x-python",
   "name": "python",
   "nbconvert_exporter": "python",
   "pygments_lexer": "ipython3",
   "version": "3.8.6"
  }
 },
 "nbformat": 4,
 "nbformat_minor": 4
}
